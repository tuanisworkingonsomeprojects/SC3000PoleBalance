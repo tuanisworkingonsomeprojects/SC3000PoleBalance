{
 "cells": [
  {
   "cell_type": "markdown",
   "metadata": {
    "colab_type": "text",
    "id": "view-in-github"
   },
   "source": [
    "<a href=\"https://colab.research.google.com/github/yue-zhongqi/cartpole_colab/blob/main/cartpole.ipynb\" target=\"_parent\"><img src=\"https://colab.research.google.com/assets/colab-badge.svg\" alt=\"Open In Colab\"/></a>"
   ]
  },
  {
   "cell_type": "markdown",
   "metadata": {
    "id": "ZauhjPSfX7pI"
   },
   "source": [
    "# Training"
   ]
  },
  {
   "cell_type": "markdown",
   "metadata": {
    "id": "UBiYOoesYMvr"
   },
   "source": [
    "## Installing dependencies:"
   ]
  },
  {
   "cell_type": "code",
   "execution_count": 1,
   "metadata": {
    "colab": {
     "base_uri": "https://localhost:8080/"
    },
    "id": "PbgnVwZmX5uW",
    "outputId": "7dcfe5ac-b419-4d5d-8305-1ba3c1240df3"
   },
   "outputs": [
    {
     "name": "stdout",
     "output_type": "stream",
     "text": [
      "Requirement already satisfied: setuptools in /Users/nguyentuan/anaconda3/lib/python3.11/site-packages (69.1.1)\r\n"
     ]
    }
   ],
   "source": [
    "!pip install gym pyvirtualdisplay > /dev/null 2>&1\n",
    "!pip install gym pyvirtualdisplay > /dev/null 2>&1\n",
    "!apt-get install -y xvfb python-opengl ffmpeg > /dev/null 2>&1\n",
    "!pip install \"gymnasium[classic_control]\" > /dev/null 2>&1\n",
    "!apt-get update > /dev/null 2>&1\n",
    "!apt-get install cmake > /dev/null 2>&1\n",
    "!pip install --upgrade setuptools 2>&1\n",
    "!pip install ez_setup > /dev/null 2>&1\n",
    "\n",
    "# Added dependency\n",
    "!pip install tensorflow > /dev/null 2>&1\n",
    "!pip install imageio > /dev/null 2>&1\n",
    "!pip install PIL > /dev/null 2>&1\n",
    "!pip install opencv-python > /dev/null 2>&1\n",
    "!pip instal moviepy > /dev/null 2>&1\n",
    "\n"
   ]
  },
  {
   "cell_type": "markdown",
   "metadata": {},
   "source": [
    "# Start testing from here"
   ]
  },
  {
   "cell_type": "markdown",
   "metadata": {},
   "source": [
    "## Import libraries and dependencies"
   ]
  },
  {
   "cell_type": "code",
   "execution_count": 1,
   "metadata": {},
   "outputs": [],
   "source": [
    "import time\n",
    "from collections import deque, namedtuple\n",
    "import random\n",
    "\n",
    "import gymnasium as gym\n",
    "from   gym          import logger as gymlogger\n",
    "from   gym.wrappers import RecordVideo\n",
    "gymlogger.set_level(40) #error only\n",
    "import numpy as np\n",
    "import matplotlib.pyplot as plt\n",
    "\n",
    "\n",
    "import tensorflow as tf\n",
    "from tensorflow.keras import Sequential\n",
    "from tensorflow.keras.layers import Dense, Input\n",
    "from tensorflow.keras.losses import MSE # Mean Square Error\n",
    "from tensorflow.keras.optimizers.legacy import Adam\n",
    "\n",
    "\n",
    "# This library is defined to generate and display the result video\n",
    "import utils"
   ]
  },
  {
   "cell_type": "markdown",
   "metadata": {},
   "source": [
    "## Import the model"
   ]
  },
  {
   "cell_type": "code",
   "execution_count": 2,
   "metadata": {},
   "outputs": [],
   "source": [
    "env = gym.make(\"CartPole-v1\", render_mode=\"rgb_array\")"
   ]
  },
  {
   "cell_type": "markdown",
   "metadata": {},
   "source": [
    "## Define some Constants and Parameters"
   ]
  },
  {
   "cell_type": "code",
   "execution_count": 3,
   "metadata": {},
   "outputs": [],
   "source": [
    "MEMORY_SIZE = 1_000_000     # size of memory buffer\n",
    "GAMMA = 0.99              # discount factor\n",
    "ALPHA = 1e-4              # learning rate  \n",
    "NUM_STEPS_FOR_UPDATE = 20  # perform a learning update every C time steps\n",
    "\n",
    "STATE_SIZE = env.observation_space.shape  # The model can return 4 state attributes\n",
    "NUM_OF_ACTION = env.action_space.n        # the model can only use 2 action push_left(0), push_right(1)\n",
    "\n",
    "MINIBATCH_SIZE = 10  # Mini-batch size.\n",
    "TAU = 0.005          # Soft update parameter.\n",
    "E_DECAY = 0.9995     # ε-decay rate for the ε-greedy policy.\n",
    "E_MIN = 0.047        # Minimum ε value for the ε-greedy policy.\n",
    "SEED = 0\n"
   ]
  },
  {
   "cell_type": "markdown",
   "metadata": {},
   "source": [
    "## Some notes about the model\n",
    "Reference: <a href = https://gymnasium.farama.org/environments/classic_control/cart_pole/> Cart Pole documentation</a>\n",
    "\n",
    "### Actions:\n",
    "- Variable type: `ndarray (1,)`\n",
    "```python\n",
    "PUSH_LEFT  = 0\n",
    "PUSH_RIGHT = 1\n",
    "```\n",
    "### States (observations):\n",
    "- Variable type: `ndarray (4,)`<br>\n",
    "\n",
    "| Index | Observation | Min | Max |\n",
    "|:-------:|:-------------:|:-----:|:-----:|\n",
    "|0|Cart Position|-4.8|4.8|\n",
    "|1|Cart Velocity|-Inf|Inf|\n",
    "|2|Pole Angle|-0.418|0.418|\n",
    "|3|Pole Angular Velocity|-Inf|Inf|\n",
    "\n",
    "### Reward:\n",
    "`+1` for every step (including terminal state)\n",
    "\n",
    "### Episode end:\n",
    "- Termination: Pole Angle outside of $\\pm 12^{\\circ}$\n",
    "- Termination: Cart Position outside of $\\pm 2.4$\n",
    "- Truncation: Episole length > 500\n",
    "\n"
   ]
  },
  {
   "cell_type": "markdown",
   "metadata": {},
   "source": [
    "## Deep-Q learning\n",
    "\n",
    "- In the lecture, we apply Q-Learning by creating a `State, Action` Table to capture the `Q(s, a)` and since we are in a continuous environment it is quite difficult to capture all the states in the same table.<br>\n",
    "- Therefore, it is better to use the weights in the Deep Neural Network (DNN) to capture all that information. <br>\n",
    "\n",
    "\n",
    "Moreover, it could behave like a Q-value table, since you can get Q(s, a) by just calling \n",
    "\n",
    "```python\n",
    "q_network(state)[a]\n",
    "``` \n",
    "and update it by training the neural network through loss function (Mean Square Error) to approximate the true value which behave just like what describe in the lecture.<br>\n",
    "- The true value:\n",
    "$$y=R(s, a)+\\gamma max_a(Q_{network}(s', a'))$$\n",
    "- The prediction:\n",
    "$$\\hat{y} = Q_{network}(s)$$\n",
    "\n",
    "### The Q-network problem\n",
    "\n",
    "One action `a` of the agent may lead to many possible $y$ since `Q_network` is involve in the calculation of $y$, which could make the model become unstable in the training process. So we will need another DNN (with identical structure to `Q_network`) to return the `Q(s', a')` called `target_Q_network`. i.e.\n",
    "\n",
    "$$y=R(s,a)+\\gamma max_a(TargetQ_{network}(s',a'))$$\n",
    "and\n",
    "$$\\hat{y} = Q_{network}(s)$$\n",
    "\n",
    "The `target_Q_network` and `Q_network` will be updated (trained) after a certain amount of steps.\n",
    "- `Q_network`'s weights $w$ will still be updated using the loss computed from $y$ and $\\hat{y}$ with learning rate $\\alpha$.\n",
    "- `Target_Q_network`'s weights $w^-$ will be update using soft update technique where it keep most of the part from the last experience and a small update based on the actual change of $w$. It will create a smoother learning curve and become more stable in the long run.\n",
    "\n",
    "$$\n",
    "w^- \\leftarrow \\tau w + (1-\\tau)w^-\n",
    "$$\n",
    "where $\\tau << 1$\n",
    "\n",
    "\n",
    "We will define each layer of both DNN:\n",
    "- `INPUT`: no. of units = `STATE_SIZE`\n",
    "- `DENSE`: 64 units of 'relu' activate function\n",
    "- `DENSE`: 64 units of 'relu' activate function\n",
    "- `DENSE`: output layers with no. of units = `NUM_OF_ACTION` with 'linear' activate function"
   ]
  },
  {
   "cell_type": "markdown",
   "metadata": {},
   "source": [
    "### Q_network and Target_Q_network stucture"
   ]
  },
  {
   "cell_type": "code",
   "execution_count": 4,
   "metadata": {},
   "outputs": [],
   "source": [
    "q_network = Sequential([\n",
    "    Input(shape = STATE_SIZE),\n",
    "    Dense(units = 128, activation = 'relu'),\n",
    "    Dense(units = 256, activation = 'relu'),\n",
    "    Dense(units = NUM_OF_ACTION, activation = 'linear')\n",
    "])\n",
    "\n",
    "target_q_network = Sequential([\n",
    "    Input(shape = STATE_SIZE),\n",
    "    Dense(units = 128, activation = 'relu'),\n",
    "    Dense(units = 256, activation = 'relu'),\n",
    "    Dense(units = NUM_OF_ACTION, activation = 'linear')\n",
    "])\n",
    "\n",
    "# Optimizer will update the learning rate appropriately to help speed up the training process\n",
    "optimizer = Adam(learning_rate=ALPHA) "
   ]
  },
  {
   "cell_type": "markdown",
   "metadata": {},
   "source": [
    "### Soft update function for Target_Q_Network"
   ]
  },
  {
   "cell_type": "code",
   "execution_count": 5,
   "metadata": {},
   "outputs": [],
   "source": [
    "def update_target_network(q_network, target_q_network):\n",
    "\n",
    "    for target_weights, q_net_weights in zip(\n",
    "        target_q_network.weights, q_network.weights\n",
    "    ):\n",
    "        target_weights.assign(TAU * q_net_weights + (1.0 - TAU) * target_weights)\n"
   ]
  },
  {
   "cell_type": "markdown",
   "metadata": {},
   "source": [
    "### Experience Relay\n",
    "\n",
    "In Deep-Q Learning, when we record the experience in the sequence it will create a lot of correlation between the consecutive states which may create bias in our model.<br>\n",
    "To account for this, we will create a collection of experience and develop a function to sample the data randomly."
   ]
  },
  {
   "cell_type": "code",
   "execution_count": 6,
   "metadata": {},
   "outputs": [],
   "source": [
    "experience = namedtuple(\"Experience\", field_names=[\"state\", \"action\", \"reward\", \"next_state\", \"done\"])"
   ]
  },
  {
   "cell_type": "code",
   "execution_count": 7,
   "metadata": {},
   "outputs": [],
   "source": [
    "#random.seed(SEED)\n",
    "def get_experiences(memory_buffer):\n",
    "    \n",
    "    experiences = random.sample(memory_buffer, k = MINIBATCH_SIZE)\n",
    "    states = tf.convert_to_tensor(\n",
    "        np.array([e.state for e in experiences if e is not None]), dtype=tf.float32\n",
    "    )\n",
    "    actions = tf.convert_to_tensor(\n",
    "        np.array([e.action for e in experiences if e is not None]), dtype=tf.float32\n",
    "    )\n",
    "    rewards = tf.convert_to_tensor(\n",
    "        np.array([e.reward for e in experiences if e is not None]), dtype=tf.float32\n",
    "    )\n",
    "    next_states = tf.convert_to_tensor(\n",
    "        np.array([e.next_state for e in experiences if e is not None]), dtype=tf.float32\n",
    "    )\n",
    "    done_vals = tf.convert_to_tensor(\n",
    "        np.array([e.done for e in experiences if e is not None]).astype(np.uint8),\n",
    "        dtype=tf.float32,\n",
    "    )\n",
    "    return (states, actions, rewards, next_states, done_vals)"
   ]
  },
  {
   "cell_type": "markdown",
   "metadata": {},
   "source": [
    "### Create a Loss function"
   ]
  },
  {
   "cell_type": "code",
   "execution_count": 8,
   "metadata": {},
   "outputs": [],
   "source": [
    "def compute_loss(experiences, gamma, q_network, target_q_network):\n",
    "\n",
    "\n",
    "    # Unpack the mini-batch of experience tuples\n",
    "    states, actions, rewards, next_states, done_vals = experiences\n",
    "    \n",
    "    # Compute max Q^(s,a)\n",
    "    max_qsa = tf.reduce_max(target_q_network(next_states), axis=-1)\n",
    "    \n",
    "    \n",
    "    \n",
    "    \n",
    "    \n",
    "    \n",
    "    \n",
    "    \n",
    "    \n",
    "    \n",
    "    \n",
    "    \n",
    "    # Set y = R if episode terminates, otherwise set y = R + γ max Q^(s,a).\n",
    "    y_targets = rewards + (1 - done_vals) * (gamma * max_qsa)\n",
    "\n",
    "\n",
    "    \n",
    "    \n",
    "    \n",
    "    # Get the q_values and reshape to match y_targets\n",
    "    q_values = q_network(states)\n",
    "    q_values = tf.gather_nd(q_values, tf.stack([tf.range(q_values.shape[0]),\n",
    "                                                tf.cast(actions, tf.int32)], axis=1))\n",
    "        \n",
    "    # Compute the loss\n",
    "    loss = MSE(y_targets, q_values)\n",
    "\n",
    "    \n",
    "    return loss"
   ]
  },
  {
   "cell_type": "markdown",
   "metadata": {},
   "source": [
    "### Create a function to update the weight of both network model\n",
    "\n",
    "This is the stage where the 2 models update their weight (train the weight) accordingly"
   ]
  },
  {
   "cell_type": "code",
   "execution_count": 9,
   "metadata": {},
   "outputs": [],
   "source": [
    "@tf.function\n",
    "def agent_learn(experiences, gamma):\n",
    "    \n",
    "    # Calculate the loss\n",
    "    with tf.GradientTape() as tape:\n",
    "        loss = compute_loss(experiences, gamma, q_network, target_q_network)\n",
    "\n",
    "    # Get the gradients of the loss with respect to the weights.\n",
    "    gradients = tape.gradient(loss, q_network.trainable_variables)\n",
    "    \n",
    "    # Update the weights of the q_network.\n",
    "    optimizer.apply_gradients(zip(gradients, q_network.trainable_variables))\n",
    "\n",
    "    # update the weights of target q_network\n",
    "    update_target_network(q_network, target_q_network)"
   ]
  },
  {
   "cell_type": "markdown",
   "metadata": {},
   "source": [
    "### Check update function"
   ]
  },
  {
   "cell_type": "code",
   "execution_count": 14,
   "metadata": {},
   "outputs": [],
   "source": [
    "def check_update_conditions(t, num_steps_upd, memory_buffer):\n",
    "\n",
    "    if len(memory_buffer) > MINIBATCH_SIZE:\n",
    "        return True\n",
    "    else:\n",
    "        return False"
   ]
  },
  {
   "cell_type": "markdown",
   "metadata": {},
   "source": [
    "## $\\varepsilon$-greedy action choice\n",
    "\n",
    "- We will defined the $\\varepsilon$ at the beginning of the training stage<br>\n",
    "- We will take action $a^{*}$ which could maximize the $Q(s, a)$ if the probability is greater than $\\varepsilon$, else we will choose the action at random, because there could be the case where random action could be better\n"
   ]
  },
  {
   "cell_type": "code",
   "execution_count": 11,
   "metadata": {},
   "outputs": [],
   "source": [
    "def get_action(q_values, epsilon = 0.0):\n",
    "\n",
    "    if random.random() > epsilon:\n",
    "        return np.argmax(q_values.numpy()[0])\n",
    "    else:\n",
    "        return random.choice(np.arange(2))"
   ]
  },
  {
   "cell_type": "markdown",
   "metadata": {},
   "source": [
    "However, overtime the agent (model) have learned and improve a lot so we have to decay the $\\varepsilon$ value with rate `E_DECAY`, i.e. the model will take action based on what it has learned more frequently. We also put a lower threshold of $\\varepsilon$ (`E_MIN`) to allow the model the chance to do random action sometime."
   ]
  },
  {
   "cell_type": "code",
   "execution_count": 12,
   "metadata": {},
   "outputs": [],
   "source": [
    "def get_new_eps(epsilon):\n",
    "    \n",
    "    return max(E_MIN, E_DECAY * epsilon)"
   ]
  },
  {
   "cell_type": "markdown",
   "metadata": {},
   "source": [
    "### Training step\n",
    "\n",
    "After the training time when we obtain the average value > 200, we consider our model is good to deploy and we deploy our trained parameters into .h5 file"
   ]
  },
  {
   "cell_type": "code",
   "execution_count": 15,
   "metadata": {},
   "outputs": [
    {
     "name": "stdout",
     "output_type": "stream",
     "text": [
      "Episode 100 | Total point average of the last 100 episodes: 21.59\n",
      "Episode 200 | Total point average of the last 100 episodes: 20.98\n",
      "Episode 300 | Total point average of the last 100 episodes: 24.51\n",
      "Episode 400 | Total point average of the last 100 episodes: 31.53\n",
      "Episode 500 | Total point average of the last 100 episodes: 26.81\n",
      "Episode 600 | Total point average of the last 100 episodes: 36.24\n",
      "Episode 700 | Total point average of the last 100 episodes: 38.34\n",
      "Episode 800 | Total point average of the last 100 episodes: 41.00\n",
      "Episode 900 | Total point average of the last 100 episodes: 49.42\n",
      "Episode 999 | Total point average of the last 100 episodes: 45.36"
     ]
    },
    {
     "name": "stderr",
     "output_type": "stream",
     "text": [
      "OpenCV: FFMPEG: tag 0x34363248/'H264' is not supported with codec id 27 and format 'mp4 / MP4 (MPEG-4 Part 14)'\n",
      "OpenCV: FFMPEG: fallback to use tag 0x31637661/'avc1'\n"
     ]
    },
    {
     "name": "stdout",
     "output_type": "stream",
     "text": [
      "Episode 1000 | Total point average of the last 100 episodes: 45.28\n",
      "Episode 1100 | Total point average of the last 100 episodes: 46.92\n",
      "Episode 1200 | Total point average of the last 100 episodes: 56.40\n",
      "Episode 1300 | Total point average of the last 100 episodes: 61.02\n",
      "Episode 1400 | Total point average of the last 100 episodes: 65.67\n",
      "Episode 1500 | Total point average of the last 100 episodes: 80.40\n",
      "Episode 1600 | Total point average of the last 100 episodes: 104.89\n",
      "Episode 1700 | Total point average of the last 100 episodes: 120.86\n",
      "Episode 1800 | Total point average of the last 100 episodes: 132.39\n",
      "Episode 1900 | Total point average of the last 100 episodes: 149.22\n",
      "Episode 1999 | Total point average of the last 100 episodes: 166.35"
     ]
    },
    {
     "name": "stderr",
     "output_type": "stream",
     "text": [
      "OpenCV: FFMPEG: tag 0x34363248/'H264' is not supported with codec id 27 and format 'mp4 / MP4 (MPEG-4 Part 14)'\n",
      "OpenCV: FFMPEG: fallback to use tag 0x31637661/'avc1'\n"
     ]
    },
    {
     "name": "stdout",
     "output_type": "stream",
     "text": [
      "Episode 2000 | Total point average of the last 100 episodes: 167.08\n",
      "Episode 2073 | Total point average of the last 100 episodes: 201.04\n",
      "\n",
      "Environment solved in 2073 episodes!\n",
      "WARNING:tensorflow:Compiled the loaded model, but the compiled metrics have yet to be built. `model.compile_metrics` will be empty until you train or evaluate the model.\n"
     ]
    },
    {
     "name": "stderr",
     "output_type": "stream",
     "text": [
      "/Users/nguyentuan/anaconda3/lib/python3.11/site-packages/keras/src/engine/training.py:3079: UserWarning: You are saving your model as an HDF5 file via `model.save()`. This file format is considered legacy. We recommend using instead the native Keras format, e.g. `model.save('my_model.keras')`.\n",
      "  saving_api.save_model(\n"
     ]
    }
   ],
   "source": [
    "num_episodes = 10_000_000\n",
    "max_num_timesteps = 500\n",
    "\n",
    "total_point_history = []\n",
    "\n",
    "num_p_av = 100    # number of total points to use for averaging\n",
    "epsilon = 1.0     # initial ε value for ε-greedy policy\n",
    "\n",
    "# Create a memory buffer D with capacity N\n",
    "memory_buffer = deque(maxlen = MEMORY_SIZE)\n",
    "\n",
    "# Set the target network weights equal to the Q-Network weights\n",
    "target_q_network.set_weights(q_network.get_weights())\n",
    "\n",
    "for i in range(num_episodes):\n",
    "    \n",
    "    # Reset the environment to the initial state and get the initial state\n",
    "    state = env.reset()[0]\n",
    "    total_points = 0\n",
    "    \n",
    "    for t in range(max_num_timesteps):\n",
    "        \n",
    "        # From the current state S choose an action A using an ε-greedy policy\n",
    "        state_qn = np.expand_dims(state, axis = 0)  # state needs to be the right shape for the q_network\n",
    "        q_values = q_network(state_qn)\n",
    "        action = get_action(q_values, epsilon)\n",
    "        \n",
    "        # Take action A and receive reward R and the next state S'\n",
    "        next_state, reward, done, truncated, info = env.step(action)\n",
    "        \n",
    "        # Store experience tuple (S,A,R,S') in the memory buffer.\n",
    "        # We store the done variable as well for convenience.\n",
    "        memory_buffer.append(experience(state, action, reward, next_state, done))\n",
    "        \n",
    "        \n",
    "        # Only update the network every NUM_STEPS_FOR_UPDATE time steps.\n",
    "        update = check_update_conditions(t, NUM_STEPS_FOR_UPDATE, memory_buffer)\n",
    "        \n",
    "\n",
    "        if update:\n",
    "            # Sample random mini-batch of experience tuples (S,A,R,S') from D\n",
    "            experiences = get_experiences(memory_buffer)\n",
    "            \n",
    "            # Set the y targets, perform a gradient descent step,\n",
    "            # and update the network weights.\n",
    "            agent_learn(experiences, GAMMA)\n",
    "        \n",
    "        state = next_state.copy()\n",
    "        \n",
    "        \n",
    "        #total_points += reward\n",
    "        total_points += 1\n",
    "        \n",
    "        \n",
    "        if done:\n",
    "            break\n",
    "            \n",
    "\n",
    "            \n",
    "    total_point_history.append(total_points)\n",
    "    av_latest_points = np.mean(total_point_history[-num_p_av:])\n",
    "    \n",
    "\n",
    "    # Update the ε value\n",
    "    epsilon = get_new_eps(epsilon)\n",
    "\n",
    "    print(f\"\\rEpisode {i+1} | Total point average of the last {num_p_av} episodes: {av_latest_points:.2f}\", end=\"\")\n",
    "\n",
    "    if (i+1) % num_p_av == 0:\n",
    "        print(f\"\\rEpisode {i+1} | Total point average of the last {num_p_av} episodes: {av_latest_points:.2f}\")\n",
    "\n",
    "    # We will consider that the environment is solved if we get an\n",
    "    # average of 200 points in the last 100 episodes.\n",
    "    if av_latest_points >= 200.0:\n",
    "        print(f\"\\n\\nEnvironment solved in {i+1} episodes!\")\n",
    "        q_network.save('cart_pole_model.h5')\n",
    "        break\n",
    "        "
   ]
  },
  {
   "cell_type": "code",
   "execution_count": 27,
   "metadata": {},
   "outputs": [
    {
     "name": "stderr",
     "output_type": "stream",
     "text": [
      "OpenCV: FFMPEG: tag 0x34363248/'H264' is not supported with codec id 27 and format 'mp4 / MP4 (MPEG-4 Part 14)'\n",
      "OpenCV: FFMPEG: fallback to use tag 0x31637661/'avc1'\n"
     ]
    }
   ],
   "source": [
    "utils.create_video(\"video/video.mp4\", env, q_network, test = False)"
   ]
  },
  {
   "cell_type": "code",
   "execution_count": 28,
   "metadata": {},
   "outputs": [
    {
     "data": {
      "text/html": [
       "<video alt=\"test\" autoplay \n",
       "                    loop controls style=\"height: 400px;\">\n",
       "                    <source src=\"data:video/mp4;base64,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\" type=\"video/mp4\" />\n",
       "                 </video>"
      ],
      "text/plain": [
       "<IPython.core.display.HTML object>"
      ]
     },
     "metadata": {},
     "output_type": "display_data"
    }
   ],
   "source": [
    "utils.show_video()"
   ]
  },
  {
   "cell_type": "code",
   "execution_count": 29,
   "metadata": {},
   "outputs": [
    {
     "data": {
      "image/png": "[encoded data removed]",
      "text/plain": [
       "<Figure size 640x480 with 1 Axes>"
      ]
     },
     "metadata": {},
     "output_type": "display_data"
    }
   ],
   "source": [
    "plt.plot([i+1 for i in range(0, 2000,2)], total_point_history[:2000:2])\n",
    "plt.xlabel('Episode no.')\n",
    "plt.ylabel('Time for which pole stayed balanced')\n",
    "plt.show()"
   ]
  }
 ],
 "metadata": {
  "colab": {
   "authorship_tag": "ABX9TyNczA+lJQOKjOo4XtzYjWQc",
   "include_colab_link": true,
   "provenance": []
  },
  "kernelspec": {
   "display_name": "Python 3 (ipykernel)",
   "language": "python",
   "name": "python3"
  },
  "language_info": {
   "codemirror_mode": {
    "name": "ipython",
    "version": 3
   },
   "file_extension": ".py",
   "mimetype": "text/x-python",
   "name": "python",
   "nbconvert_exporter": "python",
   "pygments_lexer": "ipython3",
   "version": "3.11.5"
  }
 },
 "nbformat": 4,
 "nbformat_minor": 1
}
