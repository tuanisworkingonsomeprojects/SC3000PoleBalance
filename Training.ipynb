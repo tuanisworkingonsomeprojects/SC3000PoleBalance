{
 "cells": [
  {
   "cell_type": "markdown",
   "metadata": {
    "colab_type": "text",
    "id": "view-in-github"
   },
   "source": [
    "<a href=\"https://colab.research.google.com/github/yue-zhongqi/cartpole_colab/blob/main/cartpole.ipynb\" target=\"_parent\"><img src=\"https://colab.research.google.com/assets/colab-badge.svg\" alt=\"Open In Colab\"/></a>"
   ]
  },
  {
   "cell_type": "markdown",
   "metadata": {
    "id": "ZauhjPSfX7pI"
   },
   "source": [
    "# Training"
   ]
  },
  {
   "cell_type": "markdown",
   "metadata": {
    "id": "UBiYOoesYMvr"
   },
   "source": [
    "## Installing dependencies:"
   ]
  },
  {
   "cell_type": "code",
   "execution_count": 1,
   "metadata": {
    "colab": {
     "base_uri": "https://localhost:8080/"
    },
    "id": "PbgnVwZmX5uW",
    "outputId": "7dcfe5ac-b419-4d5d-8305-1ba3c1240df3"
   },
   "outputs": [
    {
     "name": "stdout",
     "output_type": "stream",
     "text": [
      "Requirement already satisfied: setuptools in /Users/nguyentuan/anaconda3/lib/python3.11/site-packages (69.1.1)\r\n"
     ]
    }
   ],
   "source": [
    "!pip install gym pyvirtualdisplay > /dev/null 2>&1\n",
    "!pip install gym pyvirtualdisplay > /dev/null 2>&1\n",
    "!apt-get install -y xvfb python-opengl ffmpeg > /dev/null 2>&1\n",
    "!pip install \"gymnasium[classic_control]\" > /dev/null 2>&1\n",
    "!apt-get update > /dev/null 2>&1\n",
    "!apt-get install cmake > /dev/null 2>&1\n",
    "!pip install --upgrade setuptools 2>&1\n",
    "!pip install ez_setup > /dev/null 2>&1\n",
    "\n",
    "# Added dependency\n",
    "!pip install tensorflow > /dev/null 2>&1\n",
    "!pip install imageio > /dev/null 2>&1\n",
    "!pip install PIL > /dev/null 2>&1\n",
    "!pip install opencv-python > /dev/null 2>&1\n",
    "!pip instal moviepy > /dev/null 2>&1\n",
    "\n"
   ]
  },
  {
   "cell_type": "markdown",
   "metadata": {},
   "source": [
    "# Start testing from here"
   ]
  },
  {
   "cell_type": "markdown",
   "metadata": {},
   "source": [
    "## Import libraries and dependencies"
   ]
  },
  {
   "cell_type": "code",
   "execution_count": 1,
   "metadata": {},
   "outputs": [],
   "source": [
    "import time\n",
    "from collections import deque, namedtuple\n",
    "import random\n",
    "\n",
    "import gymnasium as gym\n",
    "from   gym          import logger as gymlogger\n",
    "from   gym.wrappers import RecordVideo\n",
    "gymlogger.set_level(40) #error only\n",
    "import numpy as np\n",
    "import matplotlib.pyplot as plt\n",
    "\n",
    "\n",
    "import tensorflow as tf\n",
    "from tensorflow.keras import Sequential\n",
    "from tensorflow.keras.layers import Dense, Input\n",
    "from tensorflow.keras.losses import MSE # Mean Square Error\n",
    "from tensorflow.keras.optimizers.legacy import Adam\n",
    "\n",
    "\n",
    "# This library is defined to generate and display the result video\n",
    "import utils"
   ]
  },
  {
   "cell_type": "markdown",
   "metadata": {},
   "source": [
    "## Import the model"
   ]
  },
  {
   "cell_type": "code",
   "execution_count": 2,
   "metadata": {},
   "outputs": [],
   "source": [
    "env = gym.make(\"CartPole-v1\", render_mode=\"rgb_array\")"
   ]
  },
  {
   "cell_type": "markdown",
   "metadata": {},
   "source": [
    "## Define some Constants and Parameters"
   ]
  },
  {
   "cell_type": "code",
   "execution_count": 3,
   "metadata": {},
   "outputs": [],
   "source": [
    "MEMORY_SIZE = 1_000_000     # size of memory buffer\n",
    "GAMMA = 0.99              # discount factor\n",
    "ALPHA = 1e-4              # learning rate  \n",
    "NUM_STEPS_FOR_UPDATE = 20  # perform a learning update every C time steps\n",
    "\n",
    "STATE_SIZE = env.observation_space.shape  # The model can return 4 state attributes\n",
    "NUM_OF_ACTION = env.action_space.n        # the model can only use 2 action push_left(0), push_right(1)\n",
    "\n",
    "MINIBATCH_SIZE = 10  # Mini-batch size.\n",
    "TAU = 0.005          # Soft update parameter.\n",
    "E_DECAY = 0.9995     # ε-decay rate for the ε-greedy policy.\n",
    "E_MIN = 0.047        # Minimum ε value for the ε-greedy policy.\n",
    "SEED = 0\n"
   ]
  },
  {
   "cell_type": "markdown",
   "metadata": {},
   "source": [
    "## Some notes about the model\n",
    "Reference: <a href = https://gymnasium.farama.org/environments/classic_control/cart_pole/> Cart Pole documentation</a>\n",
    "\n",
    "### Actions:\n",
    "- Variable type: `ndarray (1,)`\n",
    "```python\n",
    "PUSH_LEFT  = 0\n",
    "PUSH_RIGHT = 1\n",
    "```\n",
    "### States (observations):\n",
    "- Variable type: `ndarray (4,)`<br>\n",
    "\n",
    "| Index | Observation | Min | Max |\n",
    "|:-------:|:-------------:|:-----:|:-----:|\n",
    "|0|Cart Position|-4.8|4.8|\n",
    "|1|Cart Velocity|-Inf|Inf|\n",
    "|2|Pole Angle|-0.418|0.418|\n",
    "|3|Pole Angular Velocity|-Inf|Inf|\n",
    "\n",
    "### Reward:\n",
    "`+1` for every step (including terminal state)\n",
    "\n",
    "### Episode end:\n",
    "- Termination: Pole Angle outside of $\\pm 12^{\\circ}$\n",
    "- Termination: Cart Position outside of $\\pm 2.4$\n",
    "- Truncation: Episole length > 500\n",
    "\n"
   ]
  },
  {
   "cell_type": "markdown",
   "metadata": {},
   "source": [
    "## Deep-Q learning\n",
    "\n",
    "- In the lecture, we apply Q-Learning by creating a `State, Action` Table to capture the `Q(s, a)` and since we are in a continuous environment it is quite difficult to capture all the states in the same table.<br>\n",
    "- Therefore, it is better to use the weights in the Deep Neural Network (DNN) to capture all that information. <br>\n",
    "\n",
    "\n",
    "Moreover, it could behave like a Q-value table, since you can get Q(s, a) by just calling \n",
    "\n",
    "```python\n",
    "q_network(state)[a]\n",
    "``` \n",
    "and update it by training the neural network through loss function (Mean Square Error) to approximate the true value which behave just like what describe in the lecture.<br>\n",
    "- The true value:\n",
    "$$y=R(s, a)+\\gamma max_a(Q_{network}(s', a'))$$\n",
    "- The prediction:\n",
    "$$\\hat{y} = Q_{network}(s)$$\n",
    "\n",
    "### The Q-network problem\n",
    "\n",
    "One action `a` of the agent may lead to many possible $y$ since `Q_network` is involve in the calculation of $y$, which could make the model become unstable in the training process. So we will need another DNN (with identical structure to `Q_network`) to return the `Q(s', a')` called `target_Q_network`. i.e.\n",
    "\n",
    "$$y=R(s,a)+\\gamma max_a(TargetQ_{network}(s',a'))$$\n",
    "and\n",
    "$$\\hat{y} = Q_{network}(s)$$\n",
    "\n",
    "The `target_Q_network` and `Q_network` will be updated (trained) after a certain amount of steps.\n",
    "- `Q_network`'s weights $w$ will still be updated using the loss computed from $y$ and $\\hat{y}$ with learning rate $\\alpha$.\n",
    "- `Target_Q_network`'s weights $w^-$ will be update using soft update technique where it keep most of the part from the last experience and a small update based on the actual change of $w$. It will create a smoother learning curve and become more stable in the long run.\n",
    "\n",
    "$$\n",
    "w^- \\leftarrow \\tau w + (1-\\tau)w^-\n",
    "$$\n",
    "where $\\tau << 1$\n",
    "\n",
    "\n",
    "We will define each layer of both DNN:\n",
    "- `INPUT`: no. of units = `STATE_SIZE`\n",
    "- `DENSE`: 64 units of 'relu' activate function\n",
    "- `DENSE`: 64 units of 'relu' activate function\n",
    "- `DENSE`: output layers with no. of units = `NUM_OF_ACTION` with 'linear' activate function"
   ]
  },
  {
   "cell_type": "markdown",
   "metadata": {},
   "source": [
    "### Q_network and Target_Q_network stucture"
   ]
  },
  {
   "cell_type": "code",
   "execution_count": 4,
   "metadata": {},
   "outputs": [],
   "source": [
    "q_network = Sequential([\n",
    "    Input(shape = STATE_SIZE),\n",
    "    Dense(units = 128, activation = 'relu'),\n",
    "    Dense(units = 256, activation = 'relu'),\n",
    "    Dense(units = NUM_OF_ACTION, activation = 'linear')\n",
    "])\n",
    "\n",
    "target_q_network = Sequential([\n",
    "    Input(shape = STATE_SIZE),\n",
    "    Dense(units = 128, activation = 'relu'),\n",
    "    Dense(units = 256, activation = 'relu'),\n",
    "    Dense(units = NUM_OF_ACTION, activation = 'linear')\n",
    "])\n",
    "\n",
    "# Optimizer will update the learning rate appropriately to help speed up the training process\n",
    "optimizer = Adam(learning_rate=ALPHA) "
   ]
  },
  {
   "cell_type": "markdown",
   "metadata": {},
   "source": [
    "### Soft update function for Target_Q_Network"
   ]
  },
  {
   "cell_type": "code",
   "execution_count": 5,
   "metadata": {},
   "outputs": [],
   "source": [
    "def update_target_network(q_network, target_q_network):\n",
    "\n",
    "    for target_weights, q_net_weights in zip(\n",
    "        target_q_network.weights, q_network.weights\n",
    "    ):\n",
    "        target_weights.assign(TAU * q_net_weights + (1.0 - TAU) * target_weights)\n"
   ]
  },
  {
   "cell_type": "markdown",
   "metadata": {},
   "source": [
    "### Experience Relay\n",
    "\n",
    "In Deep-Q Learning, when we record the experience in the sequence it will create a lot of correlation between the consecutive states which may create bias in our model.<br>\n",
    "To account for this, we will create a collection of experience and develop a function to sample the data randomly."
   ]
  },
  {
   "cell_type": "code",
   "execution_count": 6,
   "metadata": {},
   "outputs": [],
   "source": [
    "experience = namedtuple(\"Experience\", field_names=[\"state\", \"action\", \"reward\", \"next_state\", \"done\"])"
   ]
  },
  {
   "cell_type": "code",
   "execution_count": 7,
   "metadata": {},
   "outputs": [],
   "source": [
    "#random.seed(SEED)\n",
    "def get_experiences(memory_buffer):\n",
    "    \n",
    "    experiences = random.sample(memory_buffer, k = MINIBATCH_SIZE)\n",
    "    states = tf.convert_to_tensor(\n",
    "        np.array([e.state for e in experiences if e is not None]), dtype=tf.float32\n",
    "    )\n",
    "    actions = tf.convert_to_tensor(\n",
    "        np.array([e.action for e in experiences if e is not None]), dtype=tf.float32\n",
    "    )\n",
    "    rewards = tf.convert_to_tensor(\n",
    "        np.array([e.reward for e in experiences if e is not None]), dtype=tf.float32\n",
    "    )\n",
    "    next_states = tf.convert_to_tensor(\n",
    "        np.array([e.next_state for e in experiences if e is not None]), dtype=tf.float32\n",
    "    )\n",
    "    done_vals = tf.convert_to_tensor(\n",
    "        np.array([e.done for e in experiences if e is not None]).astype(np.uint8),\n",
    "        dtype=tf.float32,\n",
    "    )\n",
    "    return (states, actions, rewards, next_states, done_vals)"
   ]
  },
  {
   "cell_type": "markdown",
   "metadata": {},
   "source": [
    "### Create a Loss function"
   ]
  },
  {
   "cell_type": "code",
   "execution_count": 8,
   "metadata": {},
   "outputs": [],
   "source": [
    "def compute_loss(experiences, gamma, q_network, target_q_network):\n",
    "\n",
    "\n",
    "    # Unpack the mini-batch of experience tuples\n",
    "    states, actions, rewards, next_states, done_vals = experiences\n",
    "    \n",
    "    # Compute max Q^(s,a)\n",
    "    max_qsa = tf.reduce_max(target_q_network(next_states), axis=-1)\n",
    "    \n",
    "    \n",
    "    \n",
    "    \n",
    "    \n",
    "    \n",
    "    \n",
    "    \n",
    "    \n",
    "    \n",
    "    \n",
    "    \n",
    "    # Set y = R if episode terminates, otherwise set y = R + γ max Q^(s,a).\n",
    "    y_targets = rewards + (1 - done_vals) * (gamma * max_qsa)\n",
    "\n",
    "\n",
    "    \n",
    "    \n",
    "    \n",
    "    # Get the q_values and reshape to match y_targets\n",
    "    q_values = q_network(states)\n",
    "    q_values = tf.gather_nd(q_values, tf.stack([tf.range(q_values.shape[0]),\n",
    "                                                tf.cast(actions, tf.int32)], axis=1))\n",
    "        \n",
    "    # Compute the loss\n",
    "    loss = MSE(y_targets, q_values)\n",
    "\n",
    "    \n",
    "    return loss"
   ]
  },
  {
   "cell_type": "markdown",
   "metadata": {},
   "source": [
    "### Create a function to update the weight of both network model\n",
    "\n",
    "This is the stage where the 2 models update their weight (train the weight) accordingly"
   ]
  },
  {
   "cell_type": "code",
   "execution_count": 9,
   "metadata": {},
   "outputs": [],
   "source": [
    "@tf.function\n",
    "def agent_learn(experiences, gamma):\n",
    "    \n",
    "    # Calculate the loss\n",
    "    with tf.GradientTape() as tape:\n",
    "        loss = compute_loss(experiences, gamma, q_network, target_q_network)\n",
    "\n",
    "    # Get the gradients of the loss with respect to the weights.\n",
    "    gradients = tape.gradient(loss, q_network.trainable_variables)\n",
    "    \n",
    "    # Update the weights of the q_network.\n",
    "    optimizer.apply_gradients(zip(gradients, q_network.trainable_variables))\n",
    "\n",
    "    # update the weights of target q_network\n",
    "    update_target_network(q_network, target_q_network)"
   ]
  },
  {
   "cell_type": "markdown",
   "metadata": {},
   "source": [
    "### Check update function"
   ]
  },
  {
   "cell_type": "code",
   "execution_count": 14,
   "metadata": {},
   "outputs": [],
   "source": [
    "def check_update_conditions(t, num_steps_upd, memory_buffer):\n",
    "\n",
    "    if len(memory_buffer) > MINIBATCH_SIZE:\n",
    "        return True\n",
    "    else:\n",
    "        return False"
   ]
  },
  {
   "cell_type": "markdown",
   "metadata": {},
   "source": [
    "## $\\varepsilon$-greedy action choice\n",
    "\n",
    "- We will defined the $\\varepsilon$ at the beginning of the training stage<br>\n",
    "- We will take action $a^{*}$ which could maximize the $Q(s, a)$ if the probability is greater than $\\varepsilon$, else we will choose the action at random, because there could be the case where random action could be better\n"
   ]
  },
  {
   "cell_type": "code",
   "execution_count": 11,
   "metadata": {},
   "outputs": [],
   "source": [
    "def get_action(q_values, epsilon = 0.0):\n",
    "\n",
    "    if random.random() > epsilon:\n",
    "        return np.argmax(q_values.numpy()[0])\n",
    "    else:\n",
    "        return random.choice(np.arange(2))"
   ]
  },
  {
   "cell_type": "markdown",
   "metadata": {},
   "source": [
    "However, overtime the agent (model) have learned and improve a lot so we have to decay the $\\varepsilon$ value with rate `E_DECAY`, i.e. the model will take action based on what it has learned more frequently. We also put a lower threshold of $\\varepsilon$ (`E_MIN`) to allow the model the chance to do random action sometime."
   ]
  },
  {
   "cell_type": "code",
   "execution_count": 12,
   "metadata": {},
   "outputs": [],
   "source": [
    "def get_new_eps(epsilon):\n",
    "    \n",
    "    return max(E_MIN, E_DECAY * epsilon)"
   ]
  },
  {
   "cell_type": "markdown",
   "metadata": {},
   "source": [
    "### Training step\n",
    "\n",
    "After the training time when we obtain the average value > 200, we consider our model is good to deploy and we deploy our trained parameters into .h5 file"
   ]
  },
  {
   "cell_type": "code",
   "execution_count": 15,
   "metadata": {},
   "outputs": [
    {
     "name": "stdout",
     "output_type": "stream",
     "text": [
      "Episode 100 | Total point average of the last 100 episodes: 21.59\n",
      "Episode 200 | Total point average of the last 100 episodes: 20.98\n",
      "Episode 300 | Total point average of the last 100 episodes: 24.51\n",
      "Episode 400 | Total point average of the last 100 episodes: 31.53\n",
      "Episode 500 | Total point average of the last 100 episodes: 26.81\n",
      "Episode 600 | Total point average of the last 100 episodes: 36.24\n",
      "Episode 700 | Total point average of the last 100 episodes: 38.34\n",
      "Episode 800 | Total point average of the last 100 episodes: 41.00\n",
      "Episode 900 | Total point average of the last 100 episodes: 49.42\n",
      "Episode 999 | Total point average of the last 100 episodes: 45.36"
     ]
    },
    {
     "name": "stderr",
     "output_type": "stream",
     "text": [
      "OpenCV: FFMPEG: tag 0x34363248/'H264' is not supported with codec id 27 and format 'mp4 / MP4 (MPEG-4 Part 14)'\n",
      "OpenCV: FFMPEG: fallback to use tag 0x31637661/'avc1'\n"
     ]
    },
    {
     "name": "stdout",
     "output_type": "stream",
     "text": [
      "Episode 1000 | Total point average of the last 100 episodes: 45.28\n",
      "Episode 1100 | Total point average of the last 100 episodes: 46.92\n",
      "Episode 1200 | Total point average of the last 100 episodes: 56.40\n",
      "Episode 1300 | Total point average of the last 100 episodes: 61.02\n",
      "Episode 1400 | Total point average of the last 100 episodes: 65.67\n",
      "Episode 1500 | Total point average of the last 100 episodes: 80.40\n",
      "Episode 1600 | Total point average of the last 100 episodes: 104.89\n",
      "Episode 1700 | Total point average of the last 100 episodes: 120.86\n",
      "Episode 1800 | Total point average of the last 100 episodes: 132.39\n",
      "Episode 1900 | Total point average of the last 100 episodes: 149.22\n",
      "Episode 1999 | Total point average of the last 100 episodes: 166.35"
     ]
    },
    {
     "name": "stderr",
     "output_type": "stream",
     "text": [
      "OpenCV: FFMPEG: tag 0x34363248/'H264' is not supported with codec id 27 and format 'mp4 / MP4 (MPEG-4 Part 14)'\n",
      "OpenCV: FFMPEG: fallback to use tag 0x31637661/'avc1'\n"
     ]
    },
    {
     "name": "stdout",
     "output_type": "stream",
     "text": [
      "Episode 2000 | Total point average of the last 100 episodes: 167.08\n",
      "Episode 2073 | Total point average of the last 100 episodes: 201.04\n",
      "\n",
      "Environment solved in 2073 episodes!\n",
      "WARNING:tensorflow:Compiled the loaded model, but the compiled metrics have yet to be built. `model.compile_metrics` will be empty until you train or evaluate the model.\n"
     ]
    },
    {
     "name": "stderr",
     "output_type": "stream",
     "text": [
      "/Users/nguyentuan/anaconda3/lib/python3.11/site-packages/keras/src/engine/training.py:3079: UserWarning: You are saving your model as an HDF5 file via `model.save()`. This file format is considered legacy. We recommend using instead the native Keras format, e.g. `model.save('my_model.keras')`.\n",
      "  saving_api.save_model(\n"
     ]
    }
   ],
   "source": [
    "num_episodes = 10_000_000\n",
    "max_num_timesteps = 500\n",
    "\n",
    "total_point_history = []\n",
    "\n",
    "num_p_av = 100    # number of total points to use for averaging\n",
    "epsilon = 1.0     # initial ε value for ε-greedy policy\n",
    "\n",
    "# Create a memory buffer D with capacity N\n",
    "memory_buffer = deque(maxlen = MEMORY_SIZE)\n",
    "\n",
    "# Set the target network weights equal to the Q-Network weights\n",
    "target_q_network.set_weights(q_network.get_weights())\n",
    "\n",
    "for i in range(num_episodes):\n",
    "    \n",
    "    # Reset the environment to the initial state and get the initial state\n",
    "    state = env.reset()[0]\n",
    "    total_points = 0\n",
    "    \n",
    "    for t in range(max_num_timesteps):\n",
    "        \n",
    "        # From the current state S choose an action A using an ε-greedy policy\n",
    "        state_qn = np.expand_dims(state, axis = 0)  # state needs to be the right shape for the q_network\n",
    "        q_values = q_network(state_qn)\n",
    "        action = get_action(q_values, epsilon)\n",
    "        \n",
    "        # Take action A and receive reward R and the next state S'\n",
    "        next_state, reward, done, truncated, info = env.step(action)\n",
    "        \n",
    "        # Store experience tuple (S,A,R,S') in the memory buffer.\n",
    "        # We store the done variable as well for convenience.\n",
    "        memory_buffer.append(experience(state, action, reward, next_state, done))\n",
    "        \n",
    "        \n",
    "        # Only update the network every NUM_STEPS_FOR_UPDATE time steps.\n",
    "        update = check_update_conditions(t, NUM_STEPS_FOR_UPDATE, memory_buffer)\n",
    "        \n",
    "\n",
    "        if update:\n",
    "            # Sample random mini-batch of experience tuples (S,A,R,S') from D\n",
    "            experiences = get_experiences(memory_buffer)\n",
    "            \n",
    "            # Set the y targets, perform a gradient descent step,\n",
    "            # and update the network weights.\n",
    "            agent_learn(experiences, GAMMA)\n",
    "        \n",
    "        state = next_state.copy()\n",
    "        \n",
    "        \n",
    "        #total_points += reward\n",
    "        total_points += 1\n",
    "        \n",
    "        \n",
    "        if done:\n",
    "            break\n",
    "            \n",
    "\n",
    "            \n",
    "    total_point_history.append(total_points)\n",
    "    av_latest_points = np.mean(total_point_history[-num_p_av:])\n",
    "    \n",
    "\n",
    "    # Update the ε value\n",
    "    epsilon = get_new_eps(epsilon)\n",
    "\n",
    "    print(f\"\\rEpisode {i+1} | Total point average of the last {num_p_av} episodes: {av_latest_points:.2f}\", end=\"\")\n",
    "\n",
    "    if (i+1) % num_p_av == 0:\n",
    "        print(f\"\\rEpisode {i+1} | Total point average of the last {num_p_av} episodes: {av_latest_points:.2f}\")\n",
    "\n",
    "    # We will consider that the environment is solved if we get an\n",
    "    # average of 200 points in the last 100 episodes.\n",
    "    if av_latest_points >= 200.0:\n",
    "        print(f\"\\n\\nEnvironment solved in {i+1} episodes!\")\n",
    "        q_network.save('cart_pole_model.h5')\n",
    "        break\n",
    "        "
   ]
  },
  {
   "cell_type": "code",
   "execution_count": 27,
   "metadata": {},
   "outputs": [
    {
     "name": "stderr",
     "output_type": "stream",
     "text": [
      "OpenCV: FFMPEG: tag 0x34363248/'H264' is not supported with codec id 27 and format 'mp4 / MP4 (MPEG-4 Part 14)'\n",
      "OpenCV: FFMPEG: fallback to use tag 0x31637661/'avc1'\n"
     ]
    }
   ],
   "source": [
    "utils.create_video(\"video/video.mp4\", env, q_network, test = False)"
   ]
  },
  {
   "cell_type": "code",
   "execution_count": 2,
   "metadata": {},
   "outputs": [
    {
     "data": {
      "text/html": [
       "<video alt=\"test\" autoplay \n",
       "                    loop controls style=\"height: 400px;\">\n",
       "                    <source src=\"data:video/mp4;base64,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\" type=\"video/mp4\" />\n",
       "                 </video>"
      ],
      "text/plain": [
       "<IPython.core.display.HTML object>"
      ]
     },
     "metadata": {},
     "output_type": "display_data"
    }
   ],
   "source": [
    "utils.show_video()"
   ]
  },
  {
   "cell_type": "code",
   "execution_count": 29,
   "metadata": {},
   "outputs": [
    {
     "data": {
      "image/png": "[encoded data removed]",
      "text/plain": [
       "<Figure size 640x480 with 1 Axes>"
      ]
     },
     "metadata": {},
     "output_type": "display_data"
    }
   ],
   "source": [
    "plt.plot([i+1 for i in range(0, 2000,2)], total_point_history[:2000:2])\n",
    "plt.xlabel('Episode no.')\n",
    "plt.ylabel('Time for which pole stayed balanced')\n",
    "plt.show()"
   ]
  }
 ],
 "metadata": {
  "colab": {
   "authorship_tag": "ABX9TyNczA+lJQOKjOo4XtzYjWQc",
   "include_colab_link": true,
   "provenance": []
  },
  "kernelspec": {
   "display_name": "Python 3 (ipykernel)",
   "language": "python",
   "name": "python3"
  },
  "language_info": {
   "codemirror_mode": {
    "name": "ipython",
    "version": 3
   },
   "file_extension": ".py",
   "mimetype": "text/x-python",
   "name": "python",
   "nbconvert_exporter": "python",
   "pygments_lexer": "ipython3",
   "version": "3.11.5"
  }
 },
 "nbformat": 4,
 "nbformat_minor": 1
}
