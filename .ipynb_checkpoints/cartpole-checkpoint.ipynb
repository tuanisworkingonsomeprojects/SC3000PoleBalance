{
 "cells": [
  {
   "cell_type": "markdown",
   "metadata": {
    "colab_type": "text",
    "id": "view-in-github"
   },
   "source": [
    "<a href=\"https://colab.research.google.com/github/yue-zhongqi/cartpole_colab/blob/main/cartpole.ipynb\" target=\"_parent\"><img src=\"https://colab.research.google.com/assets/colab-badge.svg\" alt=\"Open In Colab\"/></a>"
   ]
  },
  {
   "cell_type": "markdown",
   "metadata": {
    "id": "ZauhjPSfX7pI"
   },
   "source": [
    "# Tutorial and Sample Code for Balancing a Pole on a Cart"
   ]
  },
  {
   "cell_type": "markdown",
   "metadata": {
    "id": "UBiYOoesYMvr"
   },
   "source": [
    "## Installing dependencies:"
   ]
  },
  {
   "cell_type": "code",
   "execution_count": 32,
   "metadata": {
    "colab": {
     "base_uri": "https://localhost:8080/"
    },
    "id": "PbgnVwZmX5uW",
    "outputId": "7dcfe5ac-b419-4d5d-8305-1ba3c1240df3"
   },
   "outputs": [
    {
     "name": "stdout",
     "output_type": "stream",
     "text": [
      "Requirement already satisfied: setuptools in /Users/nguyentuan/anaconda3/lib/python3.11/site-packages (69.1.1)\r\n"
     ]
    }
   ],
   "source": [
    "!pip install gym pyvirtualdisplay > /dev/null 2>&1\n",
    "!pip install gym pyvirtualdisplay > /dev/null 2>&1\n",
    "!apt-get install -y xvfb python-opengl ffmpeg > /dev/null 2>&1\n",
    "!pip install \"gymnasium[classic_control]\" > /dev/null 2>&1\n",
    "!apt-get update > /dev/null 2>&1\n",
    "!apt-get install cmake > /dev/null 2>&1\n",
    "!pip install --upgrade setuptools 2>&1\n",
    "!pip install ez_setup > /dev/null 2>&1\n",
    "\n",
    "# Added dependency\n",
    "!pip install tensorflow > /dev/null 2>&1\n",
    "!pip install imageio > /dev/null 2>&1\n",
    "!pip install PIL > /dev/null 2>&1\n",
    "!pip install opencv-python > /dev/null 2>&1\n",
    "!pip instal moviepy > /dev/null 2>&1\n",
    "\n"
   ]
  },
  {
   "cell_type": "markdown",
   "metadata": {
    "id": "RwKbYeTgbaTA"
   },
   "source": [
    "## Importing dependencies and define helper functions"
   ]
  },
  {
   "cell_type": "code",
   "execution_count": 2,
   "metadata": {
    "id": "j6KpgCLGYWmj"
   },
   "outputs": [],
   "source": [
    "import gymnasium as gym\n",
    "from gym import logger as gymlogger\n",
    "from gym.wrappers import RecordVideo\n",
    "gymlogger.set_level(40) #error only\n",
    "import tensorflow as tf\n",
    "import numpy as np\n",
    "import random\n",
    "import matplotlib\n",
    "import matplotlib.pyplot as plt\n",
    "%matplotlib inline\n",
    "import math\n",
    "import glob\n",
    "import io\n",
    "import base64\n",
    "from IPython.display import HTML\n",
    "from IPython import display as ipythondisplay\n",
    "\n",
    "def show_video():\n",
    "    mp4list = glob.glob('video/*.mp4')\n",
    "    if len(mp4list) > 0:\n",
    "        mp4 = mp4list[0]\n",
    "        video = io.open(mp4, 'r+b').read()\n",
    "        encoded = base64.b64encode(video)\n",
    "        ipythondisplay.display(HTML(data='''<video alt=\"test\" autoplay \n",
    "                    loop controls style=\"height: 400px;\">\n",
    "                    <source src=\"data:video/mp4;base64,{0}\" type=\"video/mp4\" />\n",
    "                 </video>'''.format(encoded.decode('ascii'))))\n",
    "    else: \n",
    "        print(\"Could not find video\")"
   ]
  },
  {
   "cell_type": "code",
   "execution_count": 3,
   "metadata": {},
   "outputs": [],
   "source": [
    "def embed_mp4(filename):\n",
    "    \"\"\"\n",
    "    Embeds an MP4 video file in a Jupyter notebook.\n",
    "    \n",
    "    Args:\n",
    "        filename (string):\n",
    "            The path to the the MP4 video file that will be embedded (i.e.\n",
    "            \"./videos/lunar_lander.mp4\").\n",
    "    \n",
    "    Returns:\n",
    "        Returns a display object from the given video file. This will result in the\n",
    "        video being displayed in the Jupyter Notebook.\n",
    "    \"\"\"\n",
    "\n",
    "    video = open(filename, \"rb\").read()\n",
    "    b64 = base64.b64encode(video)\n",
    "    tag = \"\"\"\n",
    "    <video width=\"840\" height=\"480\" controls>\n",
    "    <source src=\"data:video/mp4;base64,{0}\" type=\"video/mp4\">\n",
    "    Your browser does not support the video tag.\n",
    "    </video>\"\"\".format(\n",
    "        b64.decode()\n",
    "    )\n",
    "\n",
    "    return HTML(tag)"
   ]
  },
  {
   "cell_type": "markdown",
   "metadata": {},
   "source": [
    "## Video Generator"
   ]
  },
  {
   "cell_type": "markdown",
   "metadata": {},
   "source": []
  },
  {
   "cell_type": "code",
   "execution_count": 4,
   "metadata": {},
   "outputs": [],
   "source": [
    "import imageio\n",
    "import cv2\n"
   ]
  },
  {
   "cell_type": "markdown",
   "metadata": {
    "id": "ehbqP9CXbmo7"
   },
   "source": [
    "## Tutorial: Loading CartPole environment"
   ]
  },
  {
   "cell_type": "code",
   "execution_count": 5,
   "metadata": {
    "id": "Go12dH4qbwBy"
   },
   "outputs": [],
   "source": [
    "env = gym.make(\"CartPole-v1\", render_mode=\"rgb_array\")"
   ]
  },
  {
   "cell_type": "markdown",
   "metadata": {
    "id": "9XZ9g3xrcAXE"
   },
   "source": [
    "We can check the action and observation space of this environment. Discrete(2) means that there are two valid discrete actions: 0 & 1."
   ]
  },
  {
   "cell_type": "code",
   "execution_count": 6,
   "metadata": {
    "colab": {
     "base_uri": "https://localhost:8080/"
    },
    "id": "ytxvVmLdcRyw",
    "outputId": "1ce07099-492b-4126-a792-8ff12d79c2db"
   },
   "outputs": [
    {
     "name": "stdout",
     "output_type": "stream",
     "text": [
      "Discrete(2)\n"
     ]
    }
   ],
   "source": [
    "print(env.action_space)"
   ]
  },
  {
   "cell_type": "markdown",
   "metadata": {
    "id": "pVXGWi_Ncfg-"
   },
   "source": [
    "The observation space is given below. The first two arrays define the min and max values of the 4 observed values, corresponding to cart position, velocity and pole angle, angular velocity."
   ]
  },
  {
   "cell_type": "code",
   "execution_count": 7,
   "metadata": {
    "colab": {
     "base_uri": "https://localhost:8080/"
    },
    "id": "DyqHr9I5cdkX",
    "outputId": "369a0733-e7c0-4bca-b427-5e1c603ff074"
   },
   "outputs": [
    {
     "name": "stdout",
     "output_type": "stream",
     "text": [
      "Box([-4.8000002e+00 -3.4028235e+38 -4.1887903e-01 -3.4028235e+38], [4.8000002e+00 3.4028235e+38 4.1887903e-01 3.4028235e+38], (4,), float32)\n"
     ]
    }
   ],
   "source": [
    "print(env.observation_space)"
   ]
  },
  {
   "cell_type": "markdown",
   "metadata": {
    "id": "HFOdaU2Gdyg0"
   },
   "source": [
    "We call each round of the pole-balancing game an \"episode\". At the start of each episode, make sure the environment is reset, which chooses a random initial state, e.g., pole slightly tilted to the right. This initialization can be achieved by the code below, which returns the observation of the initial state."
   ]
  },
  {
   "cell_type": "code",
   "execution_count": 8,
   "metadata": {
    "colab": {
     "base_uri": "https://localhost:8080/"
    },
    "id": "VMr6qAqxdOsm",
    "outputId": "0e35ee3b-15d0-4e1f-926c-194a5a43f830"
   },
   "outputs": [
    {
     "name": "stdout",
     "output_type": "stream",
     "text": [
      "Initial observations: (array([-0.01877474, -0.03903661,  0.01774204,  0.01963122], dtype=float32), {})\n"
     ]
    }
   ],
   "source": [
    "observation = env.reset()\n",
    "print(\"Initial observations:\", observation)"
   ]
  },
  {
   "cell_type": "markdown",
   "metadata": {
    "id": "qnG2QdfbeZrI"
   },
   "source": [
    "For the CartPole environment, there are two possible actions: 0 for pushing to the left and 1 for pushing to the right. For example, we can push the cart to the left using code below, which returns the new observation, the current reward, an indicator of whether the game ends, and some additional information (not used in this project). For CartPole, the game ends when the pole is significantly tilted or you manage to balance the pole for 500 steps. You get exactly 1 reward for each step before the game ends (i.e., max cumulative reward is 500)."
   ]
  },
  {
   "cell_type": "code",
   "execution_count": 9,
   "metadata": {
    "colab": {
     "base_uri": "https://localhost:8080/"
    },
    "id": "MmfMDvyYdWGk",
    "outputId": "fa12ffd8-6707-4cbc-fb86-aef8484d5d17"
   },
   "outputs": [
    {
     "name": "stdout",
     "output_type": "stream",
     "text": [
      "New observations after choosing action 0: [-0.01955548 -0.23440844  0.01813466  0.31785873]\n",
      "Reward for this step: 1.0\n",
      "Is this round done? False\n",
      "Is this round truncated? False\n",
      "Info {}\n"
     ]
    }
   ],
   "source": [
    "observation, reward, done, truncated, info = env.step(0)\n",
    "print(\"New observations after choosing action 0:\", observation)\n",
    "print(\"Reward for this step:\", reward)\n",
    "print(\"Is this round done?\", done)\n",
    "print(\"Is this round truncated?\", truncated)\n",
    "print(\"Info\", info)"
   ]
  },
  {
   "cell_type": "markdown",
   "metadata": {
    "id": "tj0zCh59fhBb"
   },
   "source": [
    "Now we can play a full round of the game using a naive strategy (always choosing action 0), and show the cumulative reward in the round. Note that reward returned by env.step(*) corresponds to the reward for current step. So we have to accumulate the reward for each step. Clearly, the naive strategy performs poorly by surviving only a dozen of steps."
   ]
  },
  {
   "cell_type": "code",
   "execution_count": 10,
   "metadata": {
    "colab": {
     "base_uri": "https://localhost:8080/"
    },
    "id": "AVucQVRwf6Jm",
    "outputId": "72f0b7d5-7cb5-4e37-da3d-997c1bfb4641"
   },
   "outputs": [
    {
     "name": "stdout",
     "output_type": "stream",
     "text": [
      "Cumulative reward for this round: 9.0\n"
     ]
    }
   ],
   "source": [
    "observation = env.reset()\n",
    "cumulative_reward = 0\n",
    "\n",
    "# done is the same as teminated\n",
    "done = False\n",
    "while not done:\n",
    "    observation, reward, done, truncated, info = env.step(0)\n",
    "    cumulative_reward += reward\n",
    "print(\"Cumulative reward for this round:\", cumulative_reward)"
   ]
  },
  {
   "cell_type": "code",
   "execution_count": 11,
   "metadata": {},
   "outputs": [],
   "source": [
    "# Note that the env.step method accept 5 return value not 4 anymore"
   ]
  },
  {
   "cell_type": "code",
   "execution_count": null,
   "metadata": {},
   "outputs": [],
   "source": []
  },
  {
   "cell_type": "markdown",
   "metadata": {},
   "source": [
    "## Begin Draft cells"
   ]
  },
  {
   "cell_type": "code",
   "execution_count": 12,
   "metadata": {},
   "outputs": [],
   "source": [
    "import PIL.Image\n"
   ]
  },
  {
   "cell_type": "code",
   "execution_count": 13,
   "metadata": {},
   "outputs": [
    {
     "data": {
      "text/plain": [
       "(600, 400)"
      ]
     },
     "execution_count": 13,
     "metadata": {},
     "output_type": "execute_result"
    }
   ],
   "source": [
    "env.reset()\n",
    "PIL.Image.fromarray(env.render()).size"
   ]
  },
  {
   "cell_type": "code",
   "execution_count": 14,
   "metadata": {},
   "outputs": [],
   "source": [
    "observation, info = env.reset(seed=42)\n",
    "for _ in range(1000):\n",
    "    action = env.action_space.sample()\n",
    "    observation, reward, terminated, truncated, info = env.step(action)\n",
    "\n",
    "    if terminated or truncated:\n",
    "        observation, info = env.reset()"
   ]
  },
  {
   "cell_type": "code",
   "execution_count": null,
   "metadata": {},
   "outputs": [],
   "source": []
  },
  {
   "cell_type": "markdown",
   "metadata": {},
   "source": [
    "## End Draft cells"
   ]
  },
  {
   "cell_type": "code",
   "execution_count": null,
   "metadata": {},
   "outputs": [],
   "source": []
  },
  {
   "cell_type": "markdown",
   "metadata": {
    "id": "2oIzK9SzhlWN"
   },
   "source": [
    "## Task 1: Development of an RL agent"
   ]
  },
  {
   "cell_type": "markdown",
   "metadata": {
    "id": "Cc6_e5c_huiq"
   },
   "source": [
    "An example of a naive agent is given below, which randomly chooses an action regardless of the observation:"
   ]
  },
  {
   "cell_type": "code",
   "execution_count": 15,
   "metadata": {
    "id": "Hk-M4QEfh6l5"
   },
   "outputs": [],
   "source": [
    "def rand_policy_agent(observation):\n",
    "    return random.randint(0, 1)"
   ]
  },
  {
   "cell_type": "markdown",
   "metadata": {
    "id": "RAi7KKwNiegR"
   },
   "source": [
    "For Task 1, we can show the observation and chosen action below:"
   ]
  },
  {
   "cell_type": "code",
   "execution_count": 16,
   "metadata": {
    "colab": {
     "base_uri": "https://localhost:8080/"
    },
    "id": "ae2ia-vUiNKJ",
    "outputId": "22c614ca-5ba0-43d3-d27a-d79073b5d04e"
   },
   "outputs": [
    {
     "name": "stdout",
     "output_type": "stream",
     "text": [
      "Observation: (array([-0.02440349,  0.04360436, -0.03353922, -0.04550894], dtype=float32), {})\n",
      "Chosen action: 0\n"
     ]
    }
   ],
   "source": [
    "observation = env.reset()\n",
    "action = rand_policy_agent(observation)\n",
    "print(\"Observation:\", observation)\n",
    "print(\"Chosen action:\", action)"
   ]
  },
  {
   "cell_type": "markdown",
   "metadata": {
    "id": "-XtIQ0Rti1gm"
   },
   "source": [
    "## Task 2: Demonstrate the effectiveness of the RL agent"
   ]
  },
  {
   "cell_type": "markdown",
   "metadata": {
    "id": "djBEShf0kGI4"
   },
   "source": [
    "For this task, use the agent developed in Task 1 to play the game for 100 episodes (refer to tutorial for how to play a round), record the cumulative reward for each round, and plot the reward for each round. A sample plotting code is given below. Note that you must include code to play for 100 episodes and use the code to obtain round_results for plotting. DO NOT record the round results in advance and paste the results to the notebook."
   ]
  },
  {
   "cell_type": "code",
   "execution_count": 17,
   "metadata": {
    "colab": {
     "base_uri": "https://localhost:8080/",
     "height": 295
    },
    "id": "RZrCKywQi6CE",
    "outputId": "e304ecc5-14b6-4cf1-831b-dcb42eb46351"
   },
   "outputs": [
    {
     "data": {
      "image/png": "[encoded data removed]",
      "text/plain": [
       "<Figure size 640x480 with 1 Axes>"
      ]
     },
     "metadata": {},
     "output_type": "display_data"
    }
   ],
   "source": [
    "episode_results = np.random.randint(150, 250, size=100)\n",
    "plt.plot(episode_results)\n",
    "plt.title('Cumulative reward for each episode')\n",
    "plt.ylabel('Cumulative reward')\n",
    "plt.xlabel('episode')\n",
    "plt.show()"
   ]
  },
  {
   "cell_type": "markdown",
   "metadata": {
    "id": "XndSYH7wlvn7"
   },
   "source": [
    "Print the average reward over the 100 episodes."
   ]
  },
  {
   "cell_type": "code",
   "execution_count": 18,
   "metadata": {
    "colab": {
     "base_uri": "https://localhost:8080/"
    },
    "id": "pOiOp9OYlo5Y",
    "outputId": "7a02ba7b-ff17-41f2-aa7f-eb50d49a83fd"
   },
   "outputs": [
    {
     "name": "stdout",
     "output_type": "stream",
     "text": [
      "Average cumulative reward: 193.64\n",
      "Is my agent good enough? False\n"
     ]
    }
   ],
   "source": [
    "print(\"Average cumulative reward:\", episode_results.mean())\n",
    "print(\"Is my agent good enough?\", episode_results.mean() > 195)"
   ]
  },
  {
   "cell_type": "markdown",
   "metadata": {
    "id": "Yg0DCT38lFA6"
   },
   "source": [
    "## Task 3: Render one episode played by the agent"
   ]
  },
  {
   "cell_type": "markdown",
   "metadata": {
    "id": "vx1awMr9lc_w"
   },
   "source": [
    "Plug your agent to the code below to obtain rendered result."
   ]
  },
  {
   "cell_type": "code",
   "execution_count": 19,
   "metadata": {
    "colab": {
     "base_uri": "https://localhost:8080/",
     "height": 421
    },
    "id": "LYyavfbIa47D",
    "outputId": "10c2f1e7-f3b9-4975-ed25-7c380966a56c"
   },
   "outputs": [],
   "source": [
    "# env = RecordVideo(gym.make(\"CartPole-v1\"), \"./video\")\n",
    "# observation = env.reset()\n",
    "# while True:\n",
    "#     env.render()\n",
    "#     #your agent goes here\n",
    "#     action = rand_policy_agent(observation)\n",
    "#     observation, reward, done,truncated, info = env.step(action) \n",
    "#     if done: \n",
    "#         break;    \n",
    "# env.close()\n",
    "# show_video()"
   ]
  },
  {
   "cell_type": "code",
   "execution_count": null,
   "metadata": {},
   "outputs": [],
   "source": []
  },
  {
   "cell_type": "code",
   "execution_count": null,
   "metadata": {},
   "outputs": [],
   "source": []
  },
  {
   "cell_type": "code",
   "execution_count": null,
   "metadata": {},
   "outputs": [],
   "source": []
  },
  {
   "cell_type": "code",
   "execution_count": null,
   "metadata": {},
   "outputs": [],
   "source": []
  },
  {
   "cell_type": "code",
   "execution_count": null,
   "metadata": {},
   "outputs": [],
   "source": []
  },
  {
   "cell_type": "code",
   "execution_count": null,
   "metadata": {},
   "outputs": [],
   "source": []
  },
  {
   "cell_type": "code",
   "execution_count": null,
   "metadata": {},
   "outputs": [],
   "source": []
  },
  {
   "cell_type": "code",
   "execution_count": null,
   "metadata": {},
   "outputs": [],
   "source": []
  },
  {
   "cell_type": "markdown",
   "metadata": {},
   "source": [
    "The first one work already"
   ]
  },
  {
   "cell_type": "code",
   "execution_count": 20,
   "metadata": {},
   "outputs": [],
   "source": [
    "def create_video(filename, env, fps=30):\n",
    "    \"\"\"\n",
    "    Creates a video of an agent interacting with a Gym environment.\n",
    "\n",
    "    The agent will interact with the given env environment using the q_network to map\n",
    "    states to Q values and using a greedy policy to choose its actions (i.e it will\n",
    "    choose the actions that yield the maximum Q values).\n",
    "    \n",
    "    The video will be saved to a file with the given filename. The video format must be\n",
    "    specified in the filename by providing a file extension (.mp4, .gif, etc..). If you \n",
    "    want to embed the video in a Jupyter notebook using the embed_mp4 function, then the\n",
    "    video must be saved as an MP4 file. \n",
    "    \n",
    "    Args:\n",
    "        filename (string):\n",
    "            The path to the file to which the video will be saved. The video format will\n",
    "            be selected based on the filename. Therefore, the video format must be\n",
    "            specified in the filename by providing a file extension (i.e.\n",
    "            \"./videos/lunar_lander.mp4\"). To see a list of supported formats see the\n",
    "            imageio documentation: https://imageio.readthedocs.io/en/v2.8.0/formats.html\n",
    "        env (Gym Environment): \n",
    "            The Gym environment the agent will interact with.\n",
    "        q_network (tf.keras.Sequential):\n",
    "            A TensorFlow Keras Sequential model that maps states to Q values.\n",
    "        fps (int):\n",
    "            The number of frames per second. Specifies the frame rate of the output\n",
    "            video. The default frame rate is 30 frames per second.  \n",
    "    \"\"\"\n",
    "    \n",
    "    image_size = (600, 400)\n",
    "    \n",
    "    video = cv2.VideoWriter(filename, cv2.VideoWriter_fourcc(*'H264'), fps, image_size)\n",
    "\n",
    "    done = False\n",
    "    state = env.reset()[0]\n",
    "    frame = env.render()\n",
    "    video.write(frame)\n",
    "    while not done:\n",
    "        state = np.expand_dims(state, axis=0)\n",
    "        action = np.random.randint(2)\n",
    "        state, _, done, _, _ = env.step(action)\n",
    "        frame = env.render()\n",
    "        video.write(frame)\n",
    "    video.release()\n",
    "\n"
   ]
  },
  {
   "cell_type": "code",
   "execution_count": 21,
   "metadata": {
    "scrolled": false
   },
   "outputs": [
    {
     "name": "stderr",
     "output_type": "stream",
     "text": [
      "OpenCV: FFMPEG: tag 0x34363248/'H264' is not supported with codec id 27 and format 'mp4 / MP4 (MPEG-4 Part 14)'\n",
      "OpenCV: FFMPEG: fallback to use tag 0x31637661/'avc1'\n"
     ]
    }
   ],
   "source": [
    "create_video(\"./video/video.mp4\", env)"
   ]
  },
  {
   "cell_type": "code",
   "execution_count": 22,
   "metadata": {},
   "outputs": [
    {
     "data": {
      "text/html": [
       "<video alt=\"test\" autoplay \n",
       "                    loop controls style=\"height: 400px;\">\n",
       "                    <source src=\"data:video/mp4;base64,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\" type=\"video/mp4\" />\n",
       "                 </video>"
      ],
      "text/plain": [
       "<IPython.core.display.HTML object>"
      ]
     },
     "metadata": {},
     "output_type": "display_data"
    }
   ],
   "source": [
    "show_video()"
   ]
  },
  {
   "cell_type": "code",
   "execution_count": 24,
   "metadata": {},
   "outputs": [
    {
     "data": {
      "text/plain": [
       "array([ 0.03907925,  0.03934466,  0.00188584, -0.0184071 ], dtype=float32)"
      ]
     },
     "execution_count": 24,
     "metadata": {},
     "output_type": "execute_result"
    }
   ],
   "source": [
    "env.reset()[0]"
   ]
  },
  {
   "cell_type": "code",
   "execution_count": 25,
   "metadata": {},
   "outputs": [],
   "source": [
    "def create_video(filename, env, q_network, fps=30):\n",
    "    \"\"\"\n",
    "    Creates a video of an agent interacting with a Gym environment.\n",
    "\n",
    "    The agent will interact with the given env environment using the q_network to map\n",
    "    states to Q values and using a greedy policy to choose its actions (i.e it will\n",
    "    choose the actions that yield the maximum Q values).\n",
    "    \n",
    "    The video will be saved to a file with the given filename. The video format must be\n",
    "    specified in the filename by providing a file extension (.mp4, .gif, etc..). If you \n",
    "    want to embed the video in a Jupyter notebook using the embed_mp4 function, then the\n",
    "    video must be saved as an MP4 file. \n",
    "    \n",
    "    Args:\n",
    "        filename (string):\n",
    "            The path to the file to which the video will be saved. The video format will\n",
    "            be selected based on the filename. Therefore, the video format must be\n",
    "            specified in the filename by providing a file extension (i.e.\n",
    "            \"./videos/lunar_lander.mp4\"). To see a list of supported formats see the\n",
    "            imageio documentation: https://imageio.readthedocs.io/en/v2.8.0/formats.html\n",
    "        env (Gym Environment): \n",
    "            The Gym environment the agent will interact with.\n",
    "        q_network (tf.keras.Sequential):\n",
    "            A TensorFlow Keras Sequential model that maps states to Q values.\n",
    "        fps (int):\n",
    "            The number of frames per second. Specifies the frame rate of the output\n",
    "            video. The default frame rate is 30 frames per second.  \n",
    "    \"\"\"\n",
    "\n",
    "    with imageio.get_writer(filename, fps=fps) as video:\n",
    "        done = False\n",
    "        state = env.reset()\n",
    "        frame = env.render(mode=\"rgb_array\")\n",
    "        video.append_data(frame)\n",
    "        while not done:\n",
    "            state = np.expand_dims(state, axis=0)\n",
    "            q_values = q_network(state)\n",
    "            action = np.argmax(q_values.numpy()[0])\n",
    "            state, _, done, _, _ = env.step(action)\n",
    "            frame = env.render(mode=\"rgb_array\")\n",
    "            video.append_data(frame)\n",
    "\n"
   ]
  },
  {
   "cell_type": "code",
   "execution_count": null,
   "metadata": {},
   "outputs": [],
   "source": [
    "embed_mp4(\"video/video.mp4\")"
   ]
  },
  {
   "cell_type": "code",
   "execution_count": null,
   "metadata": {
    "scrolled": true
   },
   "outputs": [],
   "source": [
    "from ipywidgets import Video\n",
    "Video.from_file(\"video/video.mp4\", width=600, height=400, play=True)"
   ]
  },
  {
   "cell_type": "code",
   "execution_count": null,
   "metadata": {},
   "outputs": [],
   "source": [
    "from IPython.display import Video"
   ]
  },
  {
   "cell_type": "code",
   "execution_count": null,
   "metadata": {},
   "outputs": [],
   "source": [
    "Video(\"video/video.mp4\", embed=True)"
   ]
  },
  {
   "cell_type": "code",
   "execution_count": null,
   "metadata": {},
   "outputs": [],
   "source": [
    "show_video()"
   ]
  },
  {
   "cell_type": "code",
   "execution_count": null,
   "metadata": {},
   "outputs": [],
   "source": []
  },
  {
   "cell_type": "code",
   "execution_count": null,
   "metadata": {},
   "outputs": [],
   "source": []
  },
  {
   "cell_type": "code",
   "execution_count": null,
   "metadata": {},
   "outputs": [],
   "source": []
  },
  {
   "cell_type": "code",
   "execution_count": null,
   "metadata": {},
   "outputs": [],
   "source": []
  },
  {
   "cell_type": "code",
   "execution_count": null,
   "metadata": {},
   "outputs": [],
   "source": []
  },
  {
   "cell_type": "code",
   "execution_count": null,
   "metadata": {},
   "outputs": [],
   "source": []
  },
  {
   "cell_type": "code",
   "execution_count": null,
   "metadata": {},
   "outputs": [],
   "source": []
  },
  {
   "cell_type": "code",
   "execution_count": null,
   "metadata": {},
   "outputs": [],
   "source": []
  },
  {
   "cell_type": "code",
   "execution_count": null,
   "metadata": {},
   "outputs": [],
   "source": []
  },
  {
   "cell_type": "code",
   "execution_count": null,
   "metadata": {},
   "outputs": [],
   "source": []
  },
  {
   "cell_type": "code",
   "execution_count": null,
   "metadata": {},
   "outputs": [],
   "source": []
  },
  {
   "cell_type": "code",
   "execution_count": null,
   "metadata": {},
   "outputs": [],
   "source": []
  },
  {
   "cell_type": "code",
   "execution_count": null,
   "metadata": {},
   "outputs": [],
   "source": []
  },
  {
   "cell_type": "code",
   "execution_count": null,
   "metadata": {},
   "outputs": [],
   "source": []
  }
 ],
 "metadata": {
  "colab": {
   "authorship_tag": "ABX9TyNczA+lJQOKjOo4XtzYjWQc",
   "include_colab_link": true,
   "provenance": []
  },
  "kernelspec": {
   "display_name": "Python 3 (ipykernel)",
   "language": "python",
   "name": "python3"
  },
  "language_info": {
   "codemirror_mode": {
    "name": "ipython",
    "version": 3
   },
   "file_extension": ".py",
   "mimetype": "text/x-python",
   "name": "python",
   "nbconvert_exporter": "python",
   "pygments_lexer": "ipython3",
   "version": "3.11.5"
  }
 },
 "nbformat": 4,
 "nbformat_minor": 1
}
