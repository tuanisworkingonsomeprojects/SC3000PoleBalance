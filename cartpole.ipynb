{
 "cells": [
  {
   "cell_type": "markdown",
   "metadata": {
    "colab_type": "text",
    "id": "view-in-github"
   },
   "source": [
    "<a href=\"https://colab.research.google.com/github/yue-zhongqi/cartpole_colab/blob/main/cartpole.ipynb\" target=\"_parent\"><img src=\"https://colab.research.google.com/assets/colab-badge.svg\" alt=\"Open In Colab\"/></a>"
   ]
  },
  {
   "cell_type": "markdown",
   "metadata": {
    "id": "ZauhjPSfX7pI"
   },
   "source": [
    "# Tutorial and Sample Code for Balancing a Pole on a Cart"
   ]
  },
  {
   "cell_type": "markdown",
   "metadata": {
    "id": "UBiYOoesYMvr"
   },
   "source": [
    "## Installing dependencies:"
   ]
  },
  {
   "cell_type": "code",
   "execution_count": 1,
   "metadata": {
    "colab": {
     "base_uri": "https://localhost:8080/"
    },
    "id": "PbgnVwZmX5uW",
    "outputId": "7dcfe5ac-b419-4d5d-8305-1ba3c1240df3"
   },
   "outputs": [
    {
     "name": "stdout",
     "output_type": "stream",
     "text": [
      "Requirement already satisfied: setuptools in /Users/nguyentuan/anaconda3/lib/python3.11/site-packages (69.2.0)\r\n"
     ]
    }
   ],
   "source": [
    "!pip install gym pyvirtualdisplay > /dev/null 2>&1\n",
    "!pip install gym pyvirtualdisplay > /dev/null 2>&1\n",
    "!apt-get install -y xvfb python-opengl ffmpeg > /dev/null 2>&1\n",
    "!pip install \"gymnasium[classic_control]\" > /dev/null 2>&1\n",
    "!apt-get update > /dev/null 2>&1\n",
    "!apt-get install cmake > /dev/null 2>&1\n",
    "!pip install --upgrade setuptools 2>&1\n",
    "!pip install ez_setup > /dev/null 2>&1\n",
    "\n",
    "# Added dependency\n",
    "!pip install tensorflow > /dev/null 2>&1\n",
    "!pip install imageio > /dev/null 2>&1\n",
    "!pip install PIL > /dev/null 2>&1\n",
    "!pip install opencv-python > /dev/null 2>&1\n",
    "!pip instal moviepy > /dev/null 2>&1\n",
    "\n"
   ]
  },
  {
   "cell_type": "markdown",
   "metadata": {
    "id": "RwKbYeTgbaTA"
   },
   "source": [
    "## Importing dependencies and define helper functions"
   ]
  },
  {
   "cell_type": "code",
   "execution_count": 2,
   "metadata": {
    "id": "j6KpgCLGYWmj"
   },
   "outputs": [],
   "source": [
    "import gymnasium as gym\n",
    "from gym import logger as gymlogger\n",
    "from gym.wrappers import RecordVideo\n",
    "gymlogger.set_level(40) #error only\n",
    "import tensorflow as tf\n",
    "import numpy as np\n",
    "import random\n",
    "import matplotlib\n",
    "import matplotlib.pyplot as plt\n",
    "%matplotlib inline\n",
    "import math\n",
    "import glob\n",
    "import io\n",
    "import base64\n",
    "from IPython.display import HTML\n",
    "from IPython import display as ipythondisplay\n",
    "\n",
    "from tensorflow.keras import Sequential\n",
    "from tensorflow.keras.layers import Dense, Input\n",
    "from tensorflow.keras.losses import MSE # Mean Square Error\n",
    "from tensorflow.keras.optimizers.legacy import Adam"
   ]
  },
  {
   "cell_type": "markdown",
   "metadata": {
    "id": "ehbqP9CXbmo7"
   },
   "source": [
    "## Tutorial: Loading CartPole environment"
   ]
  },
  {
   "cell_type": "code",
   "execution_count": 3,
   "metadata": {
    "id": "Go12dH4qbwBy"
   },
   "outputs": [],
   "source": [
    "env = gym.make(\"CartPole-v1\", render_mode=\"rgb_array\")"
   ]
  },
  {
   "cell_type": "markdown",
   "metadata": {
    "id": "9XZ9g3xrcAXE"
   },
   "source": [
    "We can check the action and observation space of this environment. Discrete(2) means that there are two valid discrete actions: 0 & 1."
   ]
  },
  {
   "cell_type": "code",
   "execution_count": 4,
   "metadata": {
    "colab": {
     "base_uri": "https://localhost:8080/"
    },
    "id": "ytxvVmLdcRyw",
    "outputId": "1ce07099-492b-4126-a792-8ff12d79c2db"
   },
   "outputs": [
    {
     "name": "stdout",
     "output_type": "stream",
     "text": [
      "Discrete(2)\n"
     ]
    }
   ],
   "source": [
    "print(env.action_space)"
   ]
  },
  {
   "cell_type": "markdown",
   "metadata": {
    "id": "pVXGWi_Ncfg-"
   },
   "source": [
    "The observation space is given below. The first two arrays define the min and max values of the 4 observed values, corresponding to cart position, velocity and pole angle, angular velocity."
   ]
  },
  {
   "cell_type": "code",
   "execution_count": 5,
   "metadata": {
    "colab": {
     "base_uri": "https://localhost:8080/"
    },
    "id": "DyqHr9I5cdkX",
    "outputId": "369a0733-e7c0-4bca-b427-5e1c603ff074"
   },
   "outputs": [
    {
     "name": "stdout",
     "output_type": "stream",
     "text": [
      "Box([-4.8000002e+00 -3.4028235e+38 -4.1887903e-01 -3.4028235e+38], [4.8000002e+00 3.4028235e+38 4.1887903e-01 3.4028235e+38], (4,), float32)\n"
     ]
    }
   ],
   "source": [
    "print(env.observation_space)"
   ]
  },
  {
   "cell_type": "markdown",
   "metadata": {
    "id": "HFOdaU2Gdyg0"
   },
   "source": [
    "We call each round of the pole-balancing game an \"episode\". At the start of each episode, make sure the environment is reset, which chooses a random initial state, e.g., pole slightly tilted to the right. This initialization can be achieved by the code below, which returns the observation of the initial state."
   ]
  },
  {
   "cell_type": "code",
   "execution_count": 6,
   "metadata": {
    "colab": {
     "base_uri": "https://localhost:8080/"
    },
    "id": "VMr6qAqxdOsm",
    "outputId": "0e35ee3b-15d0-4e1f-926c-194a5a43f830"
   },
   "outputs": [
    {
     "name": "stdout",
     "output_type": "stream",
     "text": [
      "Initial observations: (array([ 0.02779018,  0.02979166,  0.03662649, -0.04988537], dtype=float32), {})\n"
     ]
    }
   ],
   "source": [
    "observation = env.reset()\n",
    "print(\"Initial observations:\", observation)"
   ]
  },
  {
   "cell_type": "markdown",
   "metadata": {
    "id": "qnG2QdfbeZrI"
   },
   "source": [
    "For the CartPole environment, there are two possible actions: 0 for pushing to the left and 1 for pushing to the right. For example, we can push the cart to the left using code below, which returns the new observation, the current reward, an indicator of whether the game ends, and some additional information (not used in this project). For CartPole, the game ends when the pole is significantly tilted or you manage to balance the pole for 500 steps. You get exactly 1 reward for each step before the game ends (i.e., max cumulative reward is 500)."
   ]
  },
  {
   "cell_type": "code",
   "execution_count": 7,
   "metadata": {
    "colab": {
     "base_uri": "https://localhost:8080/"
    },
    "id": "MmfMDvyYdWGk",
    "outputId": "fa12ffd8-6707-4cbc-fb86-aef8484d5d17"
   },
   "outputs": [
    {
     "name": "stdout",
     "output_type": "stream",
     "text": [
      "New observations after choosing action 0: [-0.0112643  -0.18523078  0.00415645  0.2857691 ]\n",
      "Reward for this step: 1.0\n",
      "Is this round done? False\n",
      "Is this round truncated? False\n",
      "Info {}\n"
     ]
    }
   ],
   "source": [
    "env.reset()\n",
    "observation, reward, done, truncated, info = env.step(0)\n",
    "print(\"New observations after choosing action 0:\", observation)\n",
    "print(\"Reward for this step:\", reward)\n",
    "print(\"Is this round done?\", done)\n",
    "print(\"Is this round truncated?\", truncated)\n",
    "print(\"Info\", info)"
   ]
  },
  {
   "cell_type": "markdown",
   "metadata": {
    "id": "tj0zCh59fhBb"
   },
   "source": [
    "Now we can play a full round of the game using a naive strategy (always choosing action 0), and show the cumulative reward in the round. Note that reward returned by env.step(*) corresponds to the reward for current step. So we have to accumulate the reward for each step. Clearly, the naive strategy performs poorly by surviving only a dozen of steps."
   ]
  },
  {
   "cell_type": "code",
   "execution_count": 8,
   "metadata": {
    "colab": {
     "base_uri": "https://localhost:8080/"
    },
    "id": "AVucQVRwf6Jm",
    "outputId": "72f0b7d5-7cb5-4e37-da3d-997c1bfb4641"
   },
   "outputs": [
    {
     "name": "stdout",
     "output_type": "stream",
     "text": [
      "Cumulative reward for this round: 10.0\n"
     ]
    }
   ],
   "source": [
    "observation = env.reset()\n",
    "cumulative_reward = 0\n",
    "\n",
    "# done is the same as teminated\n",
    "done = False\n",
    "while not done:\n",
    "    observation, reward, done, truncated, info = env.step(0)\n",
    "    cumulative_reward += reward\n",
    "print(\"Cumulative reward for this round:\", cumulative_reward)"
   ]
  },
  {
   "cell_type": "code",
   "execution_count": 9,
   "metadata": {},
   "outputs": [],
   "source": [
    "# Note that the env.step method accept 5 return value not 4 anymore"
   ]
  },
  {
   "cell_type": "markdown",
   "metadata": {
    "id": "2oIzK9SzhlWN"
   },
   "source": [
    "## Task 1: Development of an RL agent"
   ]
  },
  {
   "cell_type": "markdown",
   "metadata": {
    "id": "Cc6_e5c_huiq"
   },
   "source": [
    "An example of a naive agent is given below, which randomly chooses an action regardless of the observation:"
   ]
  },
  {
   "cell_type": "code",
   "execution_count": 10,
   "metadata": {
    "id": "Hk-M4QEfh6l5"
   },
   "outputs": [],
   "source": [
    "def rand_policy_agent(observation):\n",
    "    return random.randint(0, 1)"
   ]
  },
  {
   "cell_type": "markdown",
   "metadata": {
    "id": "RAi7KKwNiegR"
   },
   "source": [
    "For Task 1, we can show the observation and chosen action below:"
   ]
  },
  {
   "cell_type": "code",
   "execution_count": 11,
   "metadata": {
    "colab": {
     "base_uri": "https://localhost:8080/"
    },
    "id": "ae2ia-vUiNKJ",
    "outputId": "22c614ca-5ba0-43d3-d27a-d79073b5d04e",
    "scrolled": true
   },
   "outputs": [
    {
     "name": "stdout",
     "output_type": "stream",
     "text": [
      "Observation: (array([ 0.01029618,  0.04940296, -0.01750837,  0.0177334 ], dtype=float32), {})\n",
      "Chosen action: 0\n"
     ]
    }
   ],
   "source": [
    "observation = env.reset()\n",
    "action = rand_policy_agent(observation)\n",
    "print(\"Observation:\", observation)\n",
    "print(\"Chosen action:\", action)"
   ]
  },
  {
   "cell_type": "markdown",
   "metadata": {},
   "source": [
    "#### For the development RL agent using Deep-Q learning please refer to the `Training.ipynb` file.<br>\n",
    "Now, we load our trained parameter into this notebook"
   ]
  },
  {
   "cell_type": "code",
   "execution_count": 12,
   "metadata": {},
   "outputs": [],
   "source": [
    "STATE_SIZE = env.observation_space.shape  # The model can return 4 state attributes\n",
    "NUM_OF_ACTION = env.action_space.n        # the model can only use 2 action push_left(0), push_right(1)\n",
    "\n",
    "model = Sequential([\n",
    "    Input(shape = STATE_SIZE),\n",
    "    Dense(units = 128, activation = 'relu'),\n",
    "    Dense(units = 256, activation = 'relu'),\n",
    "    Dense(units = NUM_OF_ACTION, activation = 'linear')\n",
    "])\n",
    "\n",
    "\n",
    "\n",
    "model.load_weights('cart_pole_model_temp.h5')"
   ]
  },
  {
   "cell_type": "markdown",
   "metadata": {},
   "source": [
    "Now the agent will take action according to the trained model"
   ]
  },
  {
   "cell_type": "code",
   "execution_count": 13,
   "metadata": {},
   "outputs": [
    {
     "name": "stdout",
     "output_type": "stream",
     "text": [
      "Observation: (array([ 0.01758243,  0.04594364, -0.02179873,  0.04052223], dtype=float32), {})\n",
      "Chosen action: 0\n"
     ]
    }
   ],
   "source": [
    "observation = env.reset()\n",
    "state = observation[0]\n",
    "state = np.expand_dims(state, axis = 0)\n",
    "\n",
    "# Pass the state into the model\n",
    "q_values = model(state)\n",
    "\n",
    "# Pick the action with the higher q_value\n",
    "action = np.argmax(q_values.numpy()[0])\n",
    "\n",
    "print(\"Observation:\", observation)\n",
    "print(\"Chosen action:\", action)"
   ]
  },
  {
   "cell_type": "markdown",
   "metadata": {
    "id": "-XtIQ0Rti1gm"
   },
   "source": [
    "## Task 2: Demonstrate the effectiveness of the RL agent"
   ]
  },
  {
   "cell_type": "markdown",
   "metadata": {
    "id": "djBEShf0kGI4"
   },
   "source": [
    "For this task, use the agent developed in Task 1 to play the game for 100 episodes (refer to tutorial for how to play a round), record the cumulative reward for each round, and plot the reward for each round. A sample plotting code is given below. Note that you must include code to play for 100 episodes and use the code to obtain round_results for plotting. DO NOT record the round results in advance and paste the results to the notebook."
   ]
  },
  {
   "cell_type": "markdown",
   "metadata": {},
   "source": [
    "Run the model for 100 episodes"
   ]
  },
  {
   "cell_type": "code",
   "execution_count": 14,
   "metadata": {
    "scrolled": true
   },
   "outputs": [
    {
     "name": "stdout",
     "output_type": "stream",
     "text": [
      "Episode 1 - Total Reward: 500.0\n",
      "Episode 2 - Total Reward: 500.0\n",
      "Episode 3 - Total Reward: 500.0\n",
      "Episode 4 - Total Reward: 500.0\n",
      "Episode 5 - Total Reward: 500.0\n",
      "Episode 6 - Total Reward: 500.0\n",
      "Episode 7 - Total Reward: 500.0\n",
      "Episode 8 - Total Reward: 500.0\n",
      "Episode 9 - Total Reward: 500.0\n",
      "Episode 10 - Total Reward: 500.0\n",
      "Episode 11 - Total Reward: 500.0\n",
      "Episode 12 - Total Reward: 500.0\n",
      "Episode 13 - Total Reward: 500.0\n",
      "Episode 14 - Total Reward: 500.0\n",
      "Episode 15 - Total Reward: 500.0\n",
      "Episode 16 - Total Reward: 500.0\n",
      "Episode 17 - Total Reward: 500.0\n",
      "Episode 18 - Total Reward: 299.0\n",
      "Episode 19 - Total Reward: 500.0\n",
      "Episode 20 - Total Reward: 500.0\n",
      "Episode 21 - Total Reward: 500.0\n",
      "Episode 22 - Total Reward: 500.0\n",
      "Episode 23 - Total Reward: 500.0\n",
      "Episode 24 - Total Reward: 500.0\n",
      "Episode 25 - Total Reward: 500.0\n",
      "Episode 26 - Total Reward: 500.0\n",
      "Episode 27 - Total Reward: 500.0\n",
      "Episode 28 - Total Reward: 500.0\n",
      "Episode 29 - Total Reward: 500.0\n",
      "Episode 30 - Total Reward: 500.0\n",
      "Episode 31 - Total Reward: 500.0\n",
      "Episode 32 - Total Reward: 500.0\n",
      "Episode 33 - Total Reward: 500.0\n",
      "Episode 34 - Total Reward: 440.0\n",
      "Episode 35 - Total Reward: 500.0\n",
      "Episode 36 - Total Reward: 500.0\n",
      "Episode 37 - Total Reward: 500.0\n",
      "Episode 38 - Total Reward: 500.0\n",
      "Episode 39 - Total Reward: 500.0\n",
      "Episode 40 - Total Reward: 500.0\n",
      "Episode 41 - Total Reward: 500.0\n",
      "Episode 42 - Total Reward: 500.0\n",
      "Episode 43 - Total Reward: 500.0\n",
      "Episode 44 - Total Reward: 500.0\n",
      "Episode 45 - Total Reward: 500.0\n",
      "Episode 46 - Total Reward: 500.0\n",
      "Episode 47 - Total Reward: 500.0\n",
      "Episode 48 - Total Reward: 500.0\n",
      "Episode 49 - Total Reward: 500.0\n",
      "Episode 50 - Total Reward: 500.0\n",
      "Episode 51 - Total Reward: 500.0\n",
      "Episode 52 - Total Reward: 500.0\n",
      "Episode 53 - Total Reward: 500.0\n",
      "Episode 54 - Total Reward: 500.0\n",
      "Episode 55 - Total Reward: 500.0\n",
      "Episode 56 - Total Reward: 500.0\n",
      "Episode 57 - Total Reward: 500.0\n",
      "Episode 58 - Total Reward: 500.0\n",
      "Episode 59 - Total Reward: 500.0\n",
      "Episode 60 - Total Reward: 500.0\n",
      "Episode 61 - Total Reward: 500.0\n",
      "Episode 62 - Total Reward: 500.0\n",
      "Episode 63 - Total Reward: 500.0\n",
      "Episode 64 - Total Reward: 500.0\n",
      "Episode 65 - Total Reward: 500.0\n",
      "Episode 66 - Total Reward: 500.0\n",
      "Episode 67 - Total Reward: 500.0\n",
      "Episode 68 - Total Reward: 500.0\n",
      "Episode 69 - Total Reward: 500.0\n",
      "Episode 70 - Total Reward: 500.0\n",
      "Episode 71 - Total Reward: 500.0\n",
      "Episode 72 - Total Reward: 500.0\n",
      "Episode 73 - Total Reward: 500.0\n",
      "Episode 74 - Total Reward: 500.0\n",
      "Episode 75 - Total Reward: 500.0\n",
      "Episode 76 - Total Reward: 500.0\n",
      "Episode 77 - Total Reward: 500.0\n",
      "Episode 78 - Total Reward: 500.0\n",
      "Episode 79 - Total Reward: 500.0\n",
      "Episode 80 - Total Reward: 500.0\n",
      "Episode 81 - Total Reward: 354.0\n",
      "Episode 82 - Total Reward: 500.0\n",
      "Episode 83 - Total Reward: 500.0\n",
      "Episode 84 - Total Reward: 500.0\n",
      "Episode 85 - Total Reward: 500.0\n",
      "Episode 86 - Total Reward: 500.0\n",
      "Episode 87 - Total Reward: 500.0\n",
      "Episode 88 - Total Reward: 500.0\n",
      "Episode 89 - Total Reward: 500.0\n",
      "Episode 90 - Total Reward: 500.0\n",
      "Episode 91 - Total Reward: 500.0\n",
      "Episode 92 - Total Reward: 500.0\n",
      "Episode 93 - Total Reward: 500.0\n",
      "Episode 94 - Total Reward: 500.0\n",
      "Episode 95 - Total Reward: 500.0\n",
      "Episode 96 - Total Reward: 500.0\n",
      "Episode 97 - Total Reward: 500.0\n",
      "Episode 98 - Total Reward: 500.0\n",
      "Episode 99 - Total Reward: 500.0\n",
      "Episode 100 - Total Reward: 500.0\n"
     ]
    }
   ],
   "source": [
    "episode_results = []\n",
    "\n",
    "for i in range(100):\n",
    "    state = env.reset()[0]\n",
    "    total_reward = 0\n",
    "    done = False\n",
    "    truncated = False\n",
    "    \n",
    "    # Some time the model perform too good it will take forever to run the code\n",
    "    # So we have to add \"truncated\" to stop the model from running further after the total point is 500\n",
    "    while not done and not truncated:\n",
    "        state = np.expand_dims(state, axis = 0)\n",
    "        q_values = model(state)\n",
    "        action = np.argmax(q_values.numpy()[0])\n",
    "        state, reward, done, truncated, _ = env.step(action)\n",
    "        total_reward += reward\n",
    "    \n",
    "    print(f\"Episode {i + 1} - Total Reward: {total_reward}\")\n",
    "    episode_results.append(total_reward)\n",
    "    \n",
    "avg_reward = np.average(episode_results)\n",
    "episode_results = np.array(episode_results)"
   ]
  },
  {
   "cell_type": "code",
   "execution_count": 15,
   "metadata": {
    "colab": {
     "base_uri": "https://localhost:8080/",
     "height": 295
    },
    "id": "RZrCKywQi6CE",
    "outputId": "e304ecc5-14b6-4cf1-831b-dcb42eb46351"
   },
   "outputs": [
    {
     "data": {
      "image/png": "[encoded data removed]",
      "text/plain": [
       "<Figure size 640x480 with 1 Axes>"
      ]
     },
     "metadata": {},
     "output_type": "display_data"
    }
   ],
   "source": [
    "plt.plot(episode_results)\n",
    "plt.title('Cumulative reward for each episode')\n",
    "plt.ylabel('Cumulative reward')\n",
    "plt.xlabel('episode')\n",
    "plt.show()"
   ]
  },
  {
   "cell_type": "markdown",
   "metadata": {
    "id": "XndSYH7wlvn7"
   },
   "source": [
    "Print the average reward over the 100 episodes."
   ]
  },
  {
   "cell_type": "code",
   "execution_count": 16,
   "metadata": {
    "colab": {
     "base_uri": "https://localhost:8080/"
    },
    "id": "pOiOp9OYlo5Y",
    "outputId": "7a02ba7b-ff17-41f2-aa7f-eb50d49a83fd"
   },
   "outputs": [
    {
     "name": "stdout",
     "output_type": "stream",
     "text": [
      "Average cumulative reward: 495.93\n",
      "Is my agent good enough? True\n"
     ]
    }
   ],
   "source": [
    "print(\"Average cumulative reward:\", episode_results.mean())\n",
    "print(\"Is my agent good enough?\", episode_results.mean() > 195)"
   ]
  },
  {
   "cell_type": "markdown",
   "metadata": {
    "id": "Yg0DCT38lFA6"
   },
   "source": [
    "## Task 3: Render one episode played by the agent"
   ]
  },
  {
   "cell_type": "markdown",
   "metadata": {
    "id": "vx1awMr9lc_w"
   },
   "source": [
    "Plug your agent to the code below to obtain rendered result."
   ]
  },
  {
   "cell_type": "code",
   "execution_count": 17,
   "metadata": {
    "colab": {
     "base_uri": "https://localhost:8080/",
     "height": 421
    },
    "id": "LYyavfbIa47D",
    "outputId": "10c2f1e7-f3b9-4975-ed25-7c380966a56c"
   },
   "outputs": [
    {
     "name": "stderr",
     "output_type": "stream",
     "text": [
      "OpenCV: FFMPEG: tag 0x34363248/'H264' is not supported with codec id 27 and format 'mp4 / MP4 (MPEG-4 Part 14)'\n",
      "OpenCV: FFMPEG: fallback to use tag 0x31637661/'avc1'\n"
     ]
    },
    {
     "data": {
      "text/html": [
       "<video alt=\"test\" autoplay \n",
       "                    loop controls style=\"height: 400px;\">\n",
       "                    <source src=\"data:video/mp4;base64,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\" type=\"video/mp4\" />\n",
       "                 </video>"
      ],
      "text/plain": [
       "<IPython.core.display.HTML object>"
      ]
     },
     "metadata": {},
     "output_type": "display_data"
    }
   ],
   "source": [
    "import utils\n",
    "utils.create_video(\"video/video.mp4\", env, model, test = False)\n",
    "utils.show_video()"
   ]
  },
  {
   "cell_type": "code",
   "execution_count": null,
   "metadata": {},
   "outputs": [],
   "source": []
  }
 ],
 "metadata": {
  "colab": {
   "authorship_tag": "ABX9TyNczA+lJQOKjOo4XtzYjWQc",
   "include_colab_link": true,
   "provenance": []
  },
  "kernelspec": {
   "display_name": "Python 3 (ipykernel)",
   "language": "python",
   "name": "python3"
  },
  "language_info": {
   "codemirror_mode": {
    "name": "ipython",
    "version": 3
   },
   "file_extension": ".py",
   "mimetype": "text/x-python",
   "name": "python",
   "nbconvert_exporter": "python",
   "pygments_lexer": "ipython3",
   "version": "3.11.5"
  }
 },
 "nbformat": 4,
 "nbformat_minor": 1
}
