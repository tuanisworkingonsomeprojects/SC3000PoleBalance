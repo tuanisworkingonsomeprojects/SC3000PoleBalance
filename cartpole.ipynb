{
 "cells": [
  {
   "cell_type": "markdown",
   "metadata": {
    "colab_type": "text",
    "id": "view-in-github"
   },
   "source": [
    "<a href=\"https://colab.research.google.com/github/yue-zhongqi/cartpole_colab/blob/main/cartpole.ipynb\" target=\"_parent\"><img src=\"https://colab.research.google.com/assets/colab-badge.svg\" alt=\"Open In Colab\"/></a>"
   ]
  },
  {
   "cell_type": "markdown",
   "metadata": {
    "id": "ZauhjPSfX7pI"
   },
   "source": [
    "# Tutorial and Sample Code for Balancing a Pole on a Cart"
   ]
  },
  {
   "cell_type": "markdown",
   "metadata": {
    "id": "UBiYOoesYMvr"
   },
   "source": [
    "## Installing dependencies:"
   ]
  },
  {
   "cell_type": "code",
   "execution_count": 1,
   "metadata": {
    "colab": {
     "base_uri": "https://localhost:8080/"
    },
    "id": "PbgnVwZmX5uW",
    "outputId": "7dcfe5ac-b419-4d5d-8305-1ba3c1240df3"
   },
   "outputs": [
    {
     "name": "stdout",
     "output_type": "stream",
     "text": [
      "Requirement already satisfied: wheel in /Users/nguyentuan/anaconda3/lib/python3.11/site-packages (0.42.0)\n",
      "Requirement already satisfied: setuptools in /Users/nguyentuan/anaconda3/lib/python3.11/site-packages (69.1.1)\n",
      "Requirement already satisfied: pip in /Users/nguyentuan/anaconda3/lib/python3.11/site-packages (24.0)\n",
      "Requirement already satisfied: swig in /Users/nguyentuan/anaconda3/lib/python3.11/site-packages (4.2.1)\n",
      "Requirement already satisfied: gymnasium[all] in /Users/nguyentuan/anaconda3/lib/python3.11/site-packages (0.29.1)\n",
      "Requirement already satisfied: numpy>=1.21.0 in /Users/nguyentuan/anaconda3/lib/python3.11/site-packages (from gymnasium[all]) (1.24.3)\n",
      "Requirement already satisfied: cloudpickle>=1.2.0 in /Users/nguyentuan/anaconda3/lib/python3.11/site-packages (from gymnasium[all]) (2.2.1)\n",
      "Requirement already satisfied: typing-extensions>=4.3.0 in /Users/nguyentuan/anaconda3/lib/python3.11/site-packages (from gymnasium[all]) (4.10.0)\n",
      "Requirement already satisfied: farama-notifications>=0.0.1 in /Users/nguyentuan/anaconda3/lib/python3.11/site-packages (from gymnasium[all]) (0.0.4)\n",
      "Requirement already satisfied: shimmy[atari]<1.0,>=0.1.0; extra == \"all\" in /Users/nguyentuan/anaconda3/lib/python3.11/site-packages (from gymnasium[all]) (0.2.1)\n",
      "Requirement already satisfied: box2d-py==2.3.5; extra == \"all\" in /Users/nguyentuan/anaconda3/lib/python3.11/site-packages (from gymnasium[all]) (2.3.5)\n",
      "Requirement already satisfied: pygame>=2.1.3; extra == \"all\" in /Users/nguyentuan/anaconda3/lib/python3.11/site-packages (from gymnasium[all]) (2.5.2)\n",
      "Requirement already satisfied: swig==4.*; extra == \"all\" in /Users/nguyentuan/anaconda3/lib/python3.11/site-packages (from gymnasium[all]) (4.2.1)\n",
      "Requirement already satisfied: mujoco-py<2.2,>=2.1; extra == \"all\" in /Users/nguyentuan/anaconda3/lib/python3.11/site-packages (from gymnasium[all]) (2.1.2.14)\n",
      "Requirement already satisfied: cython<3; extra == \"all\" in /Users/nguyentuan/anaconda3/lib/python3.11/site-packages (from gymnasium[all]) (0.29.37)\n",
      "Requirement already satisfied: mujoco>=2.3.3; extra == \"all\" in /Users/nguyentuan/anaconda3/lib/python3.11/site-packages (from gymnasium[all]) (3.1.2)\n",
      "Requirement already satisfied: imageio>=2.14.1; extra == \"all\" in /Users/nguyentuan/anaconda3/lib/python3.11/site-packages (from gymnasium[all]) (2.31.1)\n",
      "Requirement already satisfied: jax>=0.4.0; extra == \"all\" in /Users/nguyentuan/anaconda3/lib/python3.11/site-packages (from gymnasium[all]) (0.4.25)\n",
      "Requirement already satisfied: jaxlib>=0.4.0; extra == \"all\" in /Users/nguyentuan/anaconda3/lib/python3.11/site-packages (from gymnasium[all]) (0.4.25)\n",
      "Requirement already satisfied: lz4>=3.1.0; extra == \"all\" in /Users/nguyentuan/anaconda3/lib/python3.11/site-packages (from gymnasium[all]) (4.3.2)\n",
      "Requirement already satisfied: opencv-python>=3.0; extra == \"all\" in /Users/nguyentuan/anaconda3/lib/python3.11/site-packages (from gymnasium[all]) (4.9.0.80)\n",
      "Requirement already satisfied: matplotlib>=3.0; extra == \"all\" in /Users/nguyentuan/anaconda3/lib/python3.11/site-packages (from gymnasium[all]) (3.7.2)\n",
      "Requirement already satisfied: moviepy>=1.0.0; extra == \"all\" in /Users/nguyentuan/anaconda3/lib/python3.11/site-packages (from gymnasium[all]) (1.0.3)\n",
      "Requirement already satisfied: torch>=1.0.0; extra == \"all\" in /Users/nguyentuan/anaconda3/lib/python3.11/site-packages (from gymnasium[all]) (2.2.1)\n",
      "Requirement already satisfied: ale-py~=0.8.1; extra == \"atari\" in /Users/nguyentuan/anaconda3/lib/python3.11/site-packages (from shimmy[atari]<1.0,>=0.1.0; extra == \"all\"->gymnasium[all]) (0.8.1)\n",
      "Requirement already satisfied: glfw>=1.4.0 in /Users/nguyentuan/anaconda3/lib/python3.11/site-packages (from mujoco-py<2.2,>=2.1; extra == \"all\"->gymnasium[all]) (2.7.0)\n",
      "Requirement already satisfied: cffi>=1.10 in /Users/nguyentuan/anaconda3/lib/python3.11/site-packages (from mujoco-py<2.2,>=2.1; extra == \"all\"->gymnasium[all]) (1.15.1)\n",
      "Requirement already satisfied: fasteners~=0.15 in /Users/nguyentuan/anaconda3/lib/python3.11/site-packages (from mujoco-py<2.2,>=2.1; extra == \"all\"->gymnasium[all]) (0.19)\n",
      "Requirement already satisfied: absl-py in /Users/nguyentuan/anaconda3/lib/python3.11/site-packages (from mujoco>=2.3.3; extra == \"all\"->gymnasium[all]) (2.0.0)\n",
      "Requirement already satisfied: etils[epath] in /Users/nguyentuan/anaconda3/lib/python3.11/site-packages (from mujoco>=2.3.3; extra == \"all\"->gymnasium[all]) (1.7.0)\n",
      "Requirement already satisfied: pyopengl in /Users/nguyentuan/anaconda3/lib/python3.11/site-packages (from mujoco>=2.3.3; extra == \"all\"->gymnasium[all]) (3.1.7)\n",
      "Requirement already satisfied: pillow>=8.3.2 in /Users/nguyentuan/anaconda3/lib/python3.11/site-packages (from imageio>=2.14.1; extra == \"all\"->gymnasium[all]) (9.4.0)\n",
      "Requirement already satisfied: ml-dtypes>=0.2.0 in /Users/nguyentuan/anaconda3/lib/python3.11/site-packages (from jax>=0.4.0; extra == \"all\"->gymnasium[all]) (0.2.0)\n",
      "Requirement already satisfied: opt-einsum in /Users/nguyentuan/anaconda3/lib/python3.11/site-packages (from jax>=0.4.0; extra == \"all\"->gymnasium[all]) (3.3.0)\n",
      "Requirement already satisfied: scipy>=1.9 in /Users/nguyentuan/anaconda3/lib/python3.11/site-packages (from jax>=0.4.0; extra == \"all\"->gymnasium[all]) (1.11.1)\n",
      "Requirement already satisfied: contourpy>=1.0.1 in /Users/nguyentuan/anaconda3/lib/python3.11/site-packages (from matplotlib>=3.0; extra == \"all\"->gymnasium[all]) (1.0.5)\n",
      "Requirement already satisfied: cycler>=0.10 in /Users/nguyentuan/anaconda3/lib/python3.11/site-packages (from matplotlib>=3.0; extra == \"all\"->gymnasium[all]) (0.11.0)\n",
      "Requirement already satisfied: fonttools>=4.22.0 in /Users/nguyentuan/anaconda3/lib/python3.11/site-packages (from matplotlib>=3.0; extra == \"all\"->gymnasium[all]) (4.25.0)\n",
      "Requirement already satisfied: kiwisolver>=1.0.1 in /Users/nguyentuan/anaconda3/lib/python3.11/site-packages (from matplotlib>=3.0; extra == \"all\"->gymnasium[all]) (1.4.4)\n",
      "Requirement already satisfied: packaging>=20.0 in /Users/nguyentuan/anaconda3/lib/python3.11/site-packages (from matplotlib>=3.0; extra == \"all\"->gymnasium[all]) (23.1)\n",
      "Requirement already satisfied: pyparsing<3.1,>=2.3.1 in /Users/nguyentuan/anaconda3/lib/python3.11/site-packages (from matplotlib>=3.0; extra == \"all\"->gymnasium[all]) (3.0.9)\n",
      "Requirement already satisfied: python-dateutil>=2.7 in /Users/nguyentuan/anaconda3/lib/python3.11/site-packages (from matplotlib>=3.0; extra == \"all\"->gymnasium[all]) (2.8.2)\n",
      "Requirement already satisfied: decorator<5.0,>=4.0.2 in /Users/nguyentuan/anaconda3/lib/python3.11/site-packages (from moviepy>=1.0.0; extra == \"all\"->gymnasium[all]) (4.4.2)\n",
      "Requirement already satisfied: tqdm<5.0,>=4.11.2 in /Users/nguyentuan/anaconda3/lib/python3.11/site-packages (from moviepy>=1.0.0; extra == \"all\"->gymnasium[all]) (4.65.0)\n",
      "Requirement already satisfied: requests<3.0,>=2.8.1 in /Users/nguyentuan/anaconda3/lib/python3.11/site-packages (from moviepy>=1.0.0; extra == \"all\"->gymnasium[all]) (2.31.0)\n",
      "Requirement already satisfied: proglog<=1.0.0 in /Users/nguyentuan/anaconda3/lib/python3.11/site-packages (from moviepy>=1.0.0; extra == \"all\"->gymnasium[all]) (0.1.10)\n",
      "Requirement already satisfied: imageio-ffmpeg>=0.2.0; python_version >= \"3.4\" in /Users/nguyentuan/anaconda3/lib/python3.11/site-packages (from moviepy>=1.0.0; extra == \"all\"->gymnasium[all]) (0.4.9)\n",
      "Requirement already satisfied: filelock in /Users/nguyentuan/anaconda3/lib/python3.11/site-packages (from torch>=1.0.0; extra == \"all\"->gymnasium[all]) (3.9.0)\n",
      "Requirement already satisfied: sympy in /Users/nguyentuan/anaconda3/lib/python3.11/site-packages (from torch>=1.0.0; extra == \"all\"->gymnasium[all]) (1.11.1)\n",
      "Requirement already satisfied: networkx in /Users/nguyentuan/anaconda3/lib/python3.11/site-packages (from torch>=1.0.0; extra == \"all\"->gymnasium[all]) (3.1)\n",
      "Requirement already satisfied: jinja2 in /Users/nguyentuan/anaconda3/lib/python3.11/site-packages (from torch>=1.0.0; extra == \"all\"->gymnasium[all]) (3.1.2)\n",
      "Requirement already satisfied: fsspec in /Users/nguyentuan/anaconda3/lib/python3.11/site-packages (from torch>=1.0.0; extra == \"all\"->gymnasium[all]) (2023.4.0)\n",
      "Requirement already satisfied: importlib-resources in /Users/nguyentuan/anaconda3/lib/python3.11/site-packages (from ale-py~=0.8.1; extra == \"atari\"->shimmy[atari]<1.0,>=0.1.0; extra == \"all\"->gymnasium[all]) (6.1.2)\n"
     ]
    },
    {
     "name": "stdout",
     "output_type": "stream",
     "text": [
      "Requirement already satisfied: pycparser in /Users/nguyentuan/anaconda3/lib/python3.11/site-packages (from cffi>=1.10->mujoco-py<2.2,>=2.1; extra == \"all\"->gymnasium[all]) (2.21)\n",
      "Requirement already satisfied: zipp; extra == \"epath\" in /Users/nguyentuan/anaconda3/lib/python3.11/site-packages (from etils[epath]->mujoco>=2.3.3; extra == \"all\"->gymnasium[all]) (3.11.0)\n",
      "Requirement already satisfied: six>=1.5 in /Users/nguyentuan/anaconda3/lib/python3.11/site-packages (from python-dateutil>=2.7->matplotlib>=3.0; extra == \"all\"->gymnasium[all]) (1.16.0)\n",
      "Requirement already satisfied: charset-normalizer<4,>=2 in /Users/nguyentuan/anaconda3/lib/python3.11/site-packages (from requests<3.0,>=2.8.1->moviepy>=1.0.0; extra == \"all\"->gymnasium[all]) (2.0.4)\n",
      "Requirement already satisfied: idna<4,>=2.5 in /Users/nguyentuan/anaconda3/lib/python3.11/site-packages (from requests<3.0,>=2.8.1->moviepy>=1.0.0; extra == \"all\"->gymnasium[all]) (3.4)\n",
      "Requirement already satisfied: urllib3<3,>=1.21.1 in /Users/nguyentuan/anaconda3/lib/python3.11/site-packages (from requests<3.0,>=2.8.1->moviepy>=1.0.0; extra == \"all\"->gymnasium[all]) (1.26.16)\n",
      "Requirement already satisfied: certifi>=2017.4.17 in /Users/nguyentuan/anaconda3/lib/python3.11/site-packages (from requests<3.0,>=2.8.1->moviepy>=1.0.0; extra == \"all\"->gymnasium[all]) (2023.7.22)\n",
      "Requirement already satisfied: setuptools in /Users/nguyentuan/anaconda3/lib/python3.11/site-packages (from imageio-ffmpeg>=0.2.0; python_version >= \"3.4\"->moviepy>=1.0.0; extra == \"all\"->gymnasium[all]) (69.1.1)\n",
      "Requirement already satisfied: mpmath>=0.19 in /Users/nguyentuan/anaconda3/lib/python3.11/site-packages (from sympy->torch>=1.0.0; extra == \"all\"->gymnasium[all]) (1.3.0)\n",
      "Requirement already satisfied: MarkupSafe>=2.0 in /Users/nguyentuan/anaconda3/lib/python3.11/site-packages (from jinja2->torch>=1.0.0; extra == \"all\"->gymnasium[all]) (2.1.1)\n",
      "Requirement already satisfied: setuptools in /Users/nguyentuan/anaconda3/lib/python3.11/site-packages (69.1.1)\n"
     ]
    }
   ],
   "source": [
    "!apt-get install -y xvfb python-opengl > /dev/null 2>&1\n",
    "!pip install gym pyvirtualdisplay > /dev/null 2>&1\n",
    "!pip install gym pyvirtualdisplay > /dev/null 2>&1\n",
    "!apt-get install -y xvfb python-opengl ffmpeg > /dev/null 2>&1\n",
    "!pip install wheel setuptools pip --upgrade\n",
    "!pip install swig\n",
    "!pip install \"gymnasium[all]\" --use-deprecated=legacy-resolver\n",
    "!apt-get update > /dev/null 2>&1\n",
    "!apt-get install cmake > /dev/null 2>&1\n",
    "!pip install --upgrade setuptools 2>&1\n",
    "!pip install ez_setup > /dev/null 2>&1"
   ]
  },
  {
   "cell_type": "markdown",
   "metadata": {
    "id": "RwKbYeTgbaTA"
   },
   "source": [
    "## Importing dependencies and define helper functions"
   ]
  },
  {
   "cell_type": "code",
   "execution_count": 2,
   "metadata": {
    "id": "j6KpgCLGYWmj"
   },
   "outputs": [],
   "source": [
    "import gymnasium as gym\n",
    "from gym import logger as gymlogger\n",
    "from gym.wrappers import RecordVideo\n",
    "gymlogger.set_level(40) #error only\n",
    "import tensorflow as tf\n",
    "import numpy as np\n",
    "import random\n",
    "import matplotlib\n",
    "import matplotlib.pyplot as plt\n",
    "%matplotlib inline\n",
    "import math\n",
    "import glob\n",
    "import io\n",
    "import base64\n",
    "from IPython.display import HTML\n",
    "from IPython import display as ipythondisplay\n",
    "\n",
    "def show_video():\n",
    "  mp4list = glob.glob('video/*.mp4')\n",
    "  if len(mp4list) > 0:\n",
    "    mp4 = mp4list[0]\n",
    "    video = io.open(mp4, 'r+b').read()\n",
    "    encoded = base64.b64encode(video)\n",
    "    ipythondisplay.display(HTML(data='''<video alt=\"test\" autoplay \n",
    "                loop controls style=\"height: 400px;\">\n",
    "                <source src=\"data:video/mp4;base64,{0}\" type=\"video/mp4\" />\n",
    "             </video>'''.format(encoded.decode('ascii'))))\n",
    "  else: \n",
    "    print(\"Could not find video\")"
   ]
  },
  {
   "cell_type": "markdown",
   "metadata": {
    "id": "ehbqP9CXbmo7"
   },
   "source": [
    "## Tutorial: Loading CartPole environment"
   ]
  },
  {
   "cell_type": "code",
   "execution_count": 3,
   "metadata": {
    "id": "Go12dH4qbwBy"
   },
   "outputs": [],
   "source": [
    "env = gym.make(\"CartPole-v1\")"
   ]
  },
  {
   "cell_type": "markdown",
   "metadata": {
    "id": "9XZ9g3xrcAXE"
   },
   "source": [
    "We can check the action and observation space of this environment. Discrete(2) means that there are two valid discrete actions: 0 & 1."
   ]
  },
  {
   "cell_type": "code",
   "execution_count": 4,
   "metadata": {
    "colab": {
     "base_uri": "https://localhost:8080/"
    },
    "id": "ytxvVmLdcRyw",
    "outputId": "1ce07099-492b-4126-a792-8ff12d79c2db"
   },
   "outputs": [
    {
     "name": "stdout",
     "output_type": "stream",
     "text": [
      "Discrete(2)\n"
     ]
    }
   ],
   "source": [
    "print(env.action_space)"
   ]
  },
  {
   "cell_type": "markdown",
   "metadata": {
    "id": "pVXGWi_Ncfg-"
   },
   "source": [
    "The observation space is given below. The first two arrays define the min and max values of the 4 observed values, corresponding to cart position, velocity and pole angle, angular velocity."
   ]
  },
  {
   "cell_type": "code",
   "execution_count": 5,
   "metadata": {
    "colab": {
     "base_uri": "https://localhost:8080/"
    },
    "id": "DyqHr9I5cdkX",
    "outputId": "369a0733-e7c0-4bca-b427-5e1c603ff074"
   },
   "outputs": [
    {
     "name": "stdout",
     "output_type": "stream",
     "text": [
      "Box([-4.8000002e+00 -3.4028235e+38 -4.1887903e-01 -3.4028235e+38], [4.8000002e+00 3.4028235e+38 4.1887903e-01 3.4028235e+38], (4,), float32)\n"
     ]
    }
   ],
   "source": [
    "print(env.observation_space)"
   ]
  },
  {
   "cell_type": "markdown",
   "metadata": {
    "id": "HFOdaU2Gdyg0"
   },
   "source": [
    "We call each round of the pole-balancing game an \"episode\". At the start of each episode, make sure the environment is reset, which chooses a random initial state, e.g., pole slightly tilted to the right. This initialization can be achieved by the code below, which returns the observation of the initial state."
   ]
  },
  {
   "cell_type": "code",
   "execution_count": 6,
   "metadata": {
    "colab": {
     "base_uri": "https://localhost:8080/"
    },
    "id": "VMr6qAqxdOsm",
    "outputId": "0e35ee3b-15d0-4e1f-926c-194a5a43f830"
   },
   "outputs": [
    {
     "name": "stdout",
     "output_type": "stream",
     "text": [
      "Initial observations: (array([ 0.03984572,  0.03838175, -0.03037084,  0.02541569], dtype=float32), {})\n"
     ]
    }
   ],
   "source": [
    "observation = env.reset()\n",
    "print(\"Initial observations:\", observation)"
   ]
  },
  {
   "cell_type": "markdown",
   "metadata": {
    "id": "qnG2QdfbeZrI"
   },
   "source": [
    "For the CartPole environment, there are two possible actions: 0 for pushing to the left and 1 for pushing to the right. For example, we can push the cart to the left using code below, which returns the new observation, the current reward, an indicator of whether the game ends, and some additional information (not used in this project). For CartPole, the game ends when the pole is significantly tilted or you manage to balance the pole for 500 steps. You get exactly 1 reward for each step before the game ends (i.e., max cumulative reward is 500)."
   ]
  },
  {
   "cell_type": "code",
   "execution_count": 7,
   "metadata": {
    "colab": {
     "base_uri": "https://localhost:8080/"
    },
    "id": "MmfMDvyYdWGk",
    "outputId": "fa12ffd8-6707-4cbc-fb86-aef8484d5d17"
   },
   "outputs": [
    {
     "ename": "ValueError",
     "evalue": "too many values to unpack (expected 4)",
     "output_type": "error",
     "traceback": [
      "\u001b[0;31m---------------------------------------------------------------------------\u001b[0m",
      "\u001b[0;31mValueError\u001b[0m                                Traceback (most recent call last)",
      "Cell \u001b[0;32mIn[7], line 1\u001b[0m\n\u001b[0;32m----> 1\u001b[0m observation, reward, done, info \u001b[38;5;241m=\u001b[39m env\u001b[38;5;241m.\u001b[39mstep(\u001b[38;5;241m0\u001b[39m)\n\u001b[1;32m      2\u001b[0m \u001b[38;5;28mprint\u001b[39m(\u001b[38;5;124m\"\u001b[39m\u001b[38;5;124mNew observations after choosing action 0:\u001b[39m\u001b[38;5;124m\"\u001b[39m, observation)\n\u001b[1;32m      3\u001b[0m \u001b[38;5;28mprint\u001b[39m(\u001b[38;5;124m\"\u001b[39m\u001b[38;5;124mReward for this step:\u001b[39m\u001b[38;5;124m\"\u001b[39m, reward)\n",
      "\u001b[0;31mValueError\u001b[0m: too many values to unpack (expected 4)"
     ]
    }
   ],
   "source": [
    "observation, reward, done, info = env.step(0)\n",
    "print(\"New observations after choosing action 0:\", observation)\n",
    "print(\"Reward for this step:\", reward)\n",
    "print(\"Is this round done?\", done)"
   ]
  },
  {
   "cell_type": "markdown",
   "metadata": {
    "id": "tj0zCh59fhBb"
   },
   "source": [
    "Now we can play a full round of the game using a naive strategy (always choosing action 0), and show the cumulative reward in the round. Note that reward returned by env.step(*) corresponds to the reward for current step. So we have to accumulate the reward for each step. Clearly, the naive strategy performs poorly by surviving only a dozen of steps."
   ]
  },
  {
   "cell_type": "code",
   "execution_count": 10,
   "metadata": {
    "colab": {
     "base_uri": "https://localhost:8080/"
    },
    "id": "AVucQVRwf6Jm",
    "outputId": "72f0b7d5-7cb5-4e37-da3d-997c1bfb4641",
    "scrolled": true
   },
   "outputs": [
    {
     "ename": "ValueError",
     "evalue": "too many values to unpack (expected 4)",
     "output_type": "error",
     "traceback": [
      "\u001b[0;31m---------------------------------------------------------------------------\u001b[0m",
      "\u001b[0;31mValueError\u001b[0m                                Traceback (most recent call last)",
      "Cell \u001b[0;32mIn[10], line 5\u001b[0m\n\u001b[1;32m      3\u001b[0m done \u001b[38;5;241m=\u001b[39m \u001b[38;5;28;01mFalse\u001b[39;00m\n\u001b[1;32m      4\u001b[0m \u001b[38;5;28;01mwhile\u001b[39;00m \u001b[38;5;129;01mnot\u001b[39;00m done:\n\u001b[0;32m----> 5\u001b[0m     observation, reward, done, info \u001b[38;5;241m=\u001b[39m env\u001b[38;5;241m.\u001b[39mstep(\u001b[38;5;241m0\u001b[39m)\n\u001b[1;32m      6\u001b[0m     cumulative_reward \u001b[38;5;241m+\u001b[39m\u001b[38;5;241m=\u001b[39m reward\n\u001b[1;32m      7\u001b[0m \u001b[38;5;28mprint\u001b[39m(\u001b[38;5;124m\"\u001b[39m\u001b[38;5;124mCumulative reward for this round:\u001b[39m\u001b[38;5;124m\"\u001b[39m, cumulative_reward)\n",
      "\u001b[0;31mValueError\u001b[0m: too many values to unpack (expected 4)"
     ]
    }
   ],
   "source": [
    "observation = env.reset()\n",
    "cumulative_reward = 0\n",
    "done = False\n",
    "while not done:\n",
    "    observation, reward, done, info = env.step(0)\n",
    "    cumulative_reward += reward\n",
    "print(\"Cumulative reward for this round:\", cumulative_reward)"
   ]
  },
  {
   "cell_type": "code",
   "execution_count": 11,
   "metadata": {},
   "outputs": [],
   "source": []
  },
  {
   "cell_type": "code",
   "execution_count": null,
   "metadata": {},
   "outputs": [],
   "source": []
  },
  {
   "cell_type": "markdown",
   "metadata": {
    "id": "Cc6_e5c_huiq"
   },
   "source": [
    "An example of a naive agent is given below, which randomly chooses an action regardless of the observation:"
   ]
  },
  {
   "cell_type": "code",
   "execution_count": null,
   "metadata": {
    "id": "Hk-M4QEfh6l5"
   },
   "outputs": [],
   "source": [
    "def rand_policy_agent(observation):\n",
    "    return random.randint(0, 1)"
   ]
  },
  {
   "cell_type": "markdown",
   "metadata": {
    "id": "RAi7KKwNiegR"
   },
   "source": [
    "For Task 1, we can show the observation and chosen action below:"
   ]
  },
  {
   "cell_type": "code",
   "execution_count": null,
   "metadata": {
    "colab": {
     "base_uri": "https://localhost:8080/"
    },
    "id": "ae2ia-vUiNKJ",
    "outputId": "22c614ca-5ba0-43d3-d27a-d79073b5d04e"
   },
   "outputs": [],
   "source": [
    "observation = env.reset()\n",
    "action = rand_policy_agent(observation)\n",
    "print(\"Observation:\", observation)\n",
    "print(\"Chosen action:\", action)"
   ]
  },
  {
   "cell_type": "markdown",
   "metadata": {
    "id": "-XtIQ0Rti1gm"
   },
   "source": [
    "## Task 2: Demonstrate the effectiveness of the RL agent"
   ]
  },
  {
   "cell_type": "markdown",
   "metadata": {
    "id": "djBEShf0kGI4"
   },
   "source": [
    "For this task, use the agent developed in Task 1 to play the game for 100 episodes (refer to tutorial for how to play a round), record the cumulative reward for each round, and plot the reward for each round. A sample plotting code is given below. Note that you must include code to play for 100 episodes and use the code to obtain round_results for plotting. DO NOT record the round results in advance and paste the results to the notebook."
   ]
  },
  {
   "cell_type": "code",
   "execution_count": null,
   "metadata": {
    "colab": {
     "base_uri": "https://localhost:8080/",
     "height": 295
    },
    "id": "RZrCKywQi6CE",
    "outputId": "e304ecc5-14b6-4cf1-831b-dcb42eb46351"
   },
   "outputs": [],
   "source": [
    "episode_results = np.random.randint(150, 250, size=100)\n",
    "plt.plot(episode_results)\n",
    "plt.title('Cumulative reward for each episode')\n",
    "plt.ylabel('Cumulative reward')\n",
    "plt.xlabel('episode')\n",
    "plt.show()"
   ]
  },
  {
   "cell_type": "markdown",
   "metadata": {
    "id": "XndSYH7wlvn7"
   },
   "source": [
    "Print the average reward over the 100 episodes."
   ]
  },
  {
   "cell_type": "code",
   "execution_count": null,
   "metadata": {
    "colab": {
     "base_uri": "https://localhost:8080/"
    },
    "id": "pOiOp9OYlo5Y",
    "outputId": "7a02ba7b-ff17-41f2-aa7f-eb50d49a83fd"
   },
   "outputs": [],
   "source": [
    "print(\"Average cumulative reward:\", episode_results.mean())\n",
    "print(\"Is my agent good enough?\", episode_results.mean() > 195)"
   ]
  },
  {
   "cell_type": "markdown",
   "metadata": {
    "id": "Yg0DCT38lFA6"
   },
   "source": [
    "## Task 3: Render one episode played by the agent"
   ]
  },
  {
   "cell_type": "markdown",
   "metadata": {
    "id": "vx1awMr9lc_w"
   },
   "source": [
    "Plug your agent to the code below to obtain rendered result."
   ]
  },
  {
   "cell_type": "code",
   "execution_count": null,
   "metadata": {
    "colab": {
     "base_uri": "https://localhost:8080/",
     "height": 421
    },
    "id": "LYyavfbIa47D",
    "outputId": "10c2f1e7-f3b9-4975-ed25-7c380966a56c"
   },
   "outputs": [],
   "source": [
    "env = RecordVideo(gym.make(\"CartPole-v1\"), \"./video\")\n",
    "observation = env.reset()\n",
    "while True:\n",
    "    env.render()\n",
    "    #your agent goes here\n",
    "    action = rand_policy_agent(observation)\n",
    "    observation, reward, done, info = env.step(action) \n",
    "    if done: \n",
    "      break;    \n",
    "env.close()\n",
    "show_video()"
   ]
  }
 ],
 "metadata": {
  "colab": {
   "authorship_tag": "ABX9TyNczA+lJQOKjOo4XtzYjWQc",
   "include_colab_link": true,
   "provenance": []
  },
  "kernelspec": {
   "display_name": "Python 3 (ipykernel)",
   "language": "python",
   "name": "python3"
  },
  "language_info": {
   "codemirror_mode": {
    "name": "ipython",
    "version": 3
   },
   "file_extension": ".py",
   "mimetype": "text/x-python",
   "name": "python",
   "nbconvert_exporter": "python",
   "pygments_lexer": "ipython3",
   "version": "3.11.5"
  }
 },
 "nbformat": 4,
 "nbformat_minor": 1
}
